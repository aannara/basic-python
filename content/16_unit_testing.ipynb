{
 "cells": [
  {
   "cell_type": "markdown",
   "metadata": {},
   "source": [
    "[<< 15. Docstrings and code linting](15_docstrings_and_code_linting.ipynb) | [Index](00_index.ipynb)"
   ]
  },
  {
   "cell_type": "markdown",
   "metadata": {},
   "source": [
    "# Unit Testing"
   ]
  },
  {
   "cell_type": "markdown",
   "metadata": {},
   "source": [
    "## Basic unit testing"
   ]
  },
  {
   "cell_type": "code",
   "execution_count": null,
   "metadata": {},
   "outputs": [],
   "source": [
    "%load_ext save_and_exec_magic"
   ]
  },
  {
   "cell_type": "code",
   "execution_count": null,
   "metadata": {},
   "outputs": [],
   "source": [
    "%%save_and_run_magic unittest\n",
    "import unittest\n",
    "\n",
    "class TestStringMethods(unittest.TestCase):\n",
    "\n",
    "    def test_upper(self):\n",
    "        self.assertEqual('foo'.upper(), 'FOO')\n",
    "\n",
    "    def test_isupper(self):\n",
    "        self.assertTrue('FOO'.isupper())\n",
    "        self.assertFalse('Foo'.isupper())\n",
    "\n",
    "    def test_split(self):\n",
    "        s = 'hello world'\n",
    "        self.assertEqual(s.split(), ['hello', 'world'])"
   ]
  },
  {
   "cell_type": "code",
   "execution_count": null,
   "metadata": {},
   "outputs": [],
   "source": [
    "%%save_and_run_magic unittest\n",
    "import unittest\n",
    "\n",
    "class Rectangle:\n",
    "    def __init__(self, width, height):\n",
    "        self.width = width\n",
    "        self.height = height\n",
    "\n",
    "    def get_area(self):\n",
    "        return self.width * self.height\n",
    "\n",
    "    def set_width(self, width):\n",
    "        self.width = width\n",
    "\n",
    "    def set_height(self, height):\n",
    "        self.height = height\n",
    "\n",
    "class TestGetAreaRectangle(unittest.TestCase):\n",
    "    def test_get_area(self):\n",
    "        rectangle = Rectangle(2, 3)\n",
    "        self.assertEqual(rectangle.get_area(), 6, \"Wrong calculation!\")"
   ]
  },
  {
   "cell_type": "markdown",
   "metadata": {},
   "source": [
    "## Pytest"
   ]
  },
  {
   "cell_type": "code",
   "execution_count": null,
   "metadata": {},
   "outputs": [],
   "source": [
    "%%save_and_run_magic pytest\n",
    "def add(num1, num2):\n",
    "    return num1 + num2\n",
    "\n",
    "\n",
    "def test_add():\n",
    "    assert add(1, 2) == 3"
   ]
  },
  {
   "cell_type": "markdown",
   "metadata": {},
   "source": [
    "## Use `pytest.mark.parametrize` for handling unit test which have similar parameters"
   ]
  },
  {
   "cell_type": "code",
   "execution_count": null,
   "metadata": {},
   "outputs": [],
   "source": [
    "%%save_and_run_magic pytest\n",
    "def add(num1, num2):\n",
    "    return num1 + num2\n",
    "\n",
    "\n",
    "import pytest\n",
    "\n",
    "\n",
    "@pytest.mark.parametrize(\n",
    "    ('input_arg', 'expected'),\n",
    "    (\n",
    "        ((1, 2), 3),\n",
    "        ((2, 3), 5),\n",
    "    ),\n",
    ")\n",
    "def test_add(input_arg, expected):\n",
    "    assert add(*input_arg) == expected"
   ]
  },
  {
   "cell_type": "code",
   "execution_count": null,
   "metadata": {},
   "outputs": [],
   "source": [
    "%%save_and_run_magic pytest -v\n",
    "def add(num1, num2):\n",
    "    return num1 + num2\n",
    "\n",
    "\n",
    "import pytest\n",
    "\n",
    "\n",
    "@pytest.mark.parametrize(\n",
    "    ('input_arg', 'expected'),\n",
    "    (\n",
    "        ((1, 2), 3),\n",
    "        ((2, 3), 5),\n",
    "    ),\n",
    ")\n",
    "def test_add(input_arg, expected):\n",
    "    assert add(*input_arg) == expected"
   ]
  },
  {
   "cell_type": "markdown",
   "metadata": {},
   "source": [
    "## Try it yourself"
   ]
  },
  {
   "cell_type": "markdown",
   "metadata": {},
   "source": [
    "1. Write unit test for the calculator module in `Chapter 14`.\n",
    "2. Write unit test for the problems in `Chapter 11`."
   ]
  },
  {
   "cell_type": "markdown",
   "metadata": {},
   "source": [
    "[<< 15. Docstrings and code linting](15_docstrings_and_code_linting.ipynb) | [Index](00_index.ipynb)"
   ]
  }
 ],
 "metadata": {
  "kernelspec": {
   "display_name": "Python 3 (ipykernel)",
   "language": "python",
   "name": "python3"
  },
  "language_info": {
   "codemirror_mode": {
    "name": "ipython",
    "version": 3
   },
   "file_extension": ".py",
   "mimetype": "text/x-python",
   "name": "python",
   "nbconvert_exporter": "python",
   "pygments_lexer": "ipython3",
   "version": "3.10.8"
  }
 },
 "nbformat": 4,
 "nbformat_minor": 4
}
