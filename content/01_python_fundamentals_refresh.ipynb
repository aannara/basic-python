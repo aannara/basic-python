{
 "cells": [
  {
   "attachments": {},
   "cell_type": "markdown",
   "metadata": {},
   "source": [
    "[<< Index](00_index.ipynb) | [2. Python Basics >>](02_python_basics.ipynb)"
   ]
  },
  {
   "attachments": {},
   "cell_type": "markdown",
   "metadata": {},
   "source": [
    "# Python Fundamentals Refresh"
   ]
  },
  {
   "attachments": {},
   "cell_type": "markdown",
   "metadata": {},
   "source": [
    "## Installing Python in your system"
   ]
  },
  {
   "attachments": {},
   "cell_type": "markdown",
   "metadata": {},
   "source": [
    "You can install Python from the official Python download URL: https://www.python.org/downloads/\n",
    "\n",
    "<img src=\"./static/install-python.png\" width=\"700\">\n",
    "\n",
    "***Remember to add Python to the system path and disable path limit***\n",
    "\n",
    "<img src=\"./static/install-python-add-to-path.jpg\" width=\"700\">\n",
    "\n",
    "<img src=\"./static/install-python-disable-path-limit.jpg\" width=\"700\">"
   ]
  },
  {
   "attachments": {},
   "cell_type": "markdown",
   "metadata": {},
   "source": [
    "## Python REPL (Read, Evaluate, Print, Loop)\n",
    "\n",
    "Python REPL is installed along with Python.\n",
    "\n",
    "REPL provides a way to test quick Python commands\n",
    "\n",
    "<img src=\"./static/python-repl.gif\" width=\"700\">"
   ]
  },
  {
   "attachments": {},
   "cell_type": "markdown",
   "metadata": {},
   "source": [
    "## Python IDLE (Integrated Development and Learning Environment)\n",
    "\n",
    "Basic development environment available with Python\n",
    "\n",
    "<img src=\"./static/python-idle.gif\" width=\"700\">"
   ]
  },
  {
   "attachments": {},
   "cell_type": "markdown",
   "metadata": {},
   "source": [
    "## Executing Python from command line\n",
    "\n",
    "You can run Python scripts from your command line\n",
    "\n",
    "<img src=\"./static/run-python.gif\" width=\"700\">"
   ]
  },
  {
   "attachments": {},
   "cell_type": "markdown",
   "metadata": {},
   "source": [
    "## Installing Python in VS Code"
   ]
  },
  {
   "attachments": {},
   "cell_type": "markdown",
   "metadata": {},
   "source": [
    "You can use the VS Code tutorial to install VS Code as your IDE and setup Python in it.\n",
    "\n",
    "Tutorial URL: https://code.visualstudio.com/docs/python/python-tutorial"
   ]
  },
  {
   "attachments": {},
   "cell_type": "markdown",
   "metadata": {},
   "source": [
    "[<< Index](00_index.ipynb) | [2. Python Basics >>](02_python_basics.ipynb)"
   ]
  }
 ],
 "metadata": {
  "kernelspec": {
   "display_name": ".venv",
   "language": "python",
   "name": "python3"
  },
  "language_info": {
   "name": "python",
   "version": "3.10.8"
  },
  "orig_nbformat": 4
 },
 "nbformat": 4,
 "nbformat_minor": 2
}
