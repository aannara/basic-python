{
 "cells": [
  {
   "attachments": {},
   "cell_type": "markdown",
   "metadata": {},
   "source": [
    "[<< Index](00_index.ipynb) | [2. Python Basics >>](02_python_basics.ipynb)"
   ]
  },
  {
   "attachments": {},
   "cell_type": "markdown",
   "metadata": {},
   "source": [
    "# Python Fundamentals Refresh"
   ]
  },
  {
   "attachments": {},
   "cell_type": "markdown",
   "metadata": {},
   "source": [
    "## Installing Python in your system"
   ]
  },
  {
   "attachments": {},
   "cell_type": "markdown",
   "metadata": {},
   "source": [
    "You can install Python from the official Python download URL: https://www.python.org/downloads/\n",
    "\n",
    "Remember to add Python to the system path and disable path limit\n",
    "\n",
    "![Install Python](./static/install-python.png)\n",
    "\n",
    "![Add to path](./static/install-python-add-to-path.jpg)\n",
    "\n",
    "![Disable path Limit](./static/install-python-disable-path-limit.jpg)"
   ]
  },
  {
   "attachments": {},
   "cell_type": "markdown",
   "metadata": {},
   "source": [
    "## Python REPL (Read, Evaluate, Print, Loop)\n",
    "\n",
    "Python REPL is installed along with Python.\n",
    "\n",
    "REPL provides a way to test quick Python commands\n",
    "\n",
    "![Python REPL](./static/python-repl.gif)"
   ]
  },
  {
   "attachments": {},
   "cell_type": "markdown",
   "metadata": {},
   "source": [
    "## Python IDLE (Integrated Development and Learning Environment)\n",
    "\n",
    "Basic development environment available with Python\n",
    "\n",
    "![Python REPL](./static/python-idle.gif)"
   ]
  },
  {
   "attachments": {},
   "cell_type": "markdown",
   "metadata": {},
   "source": [
    "## Executing Python from command line\n",
    "\n",
    "You can run Python scripts from your command line\n",
    "\n",
    "![Run Python](./static/run-python.gif)"
   ]
  },
  {
   "attachments": {},
   "cell_type": "markdown",
   "metadata": {},
   "source": [
    "[<< Index](00_index.ipynb) | [2. Python Basics >>](02_python_basics.ipynb)"
   ]
  }
 ],
 "metadata": {
  "kernelspec": {
   "display_name": ".venv",
   "language": "python",
   "name": "python3"
  },
  "language_info": {
   "name": "python",
   "version": "3.10.8"
  },
  "orig_nbformat": 4
 },
 "nbformat": 4,
 "nbformat_minor": 2
}
