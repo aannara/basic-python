{
 "cells": [
  {
   "cell_type": "markdown",
   "metadata": {},
   "source": [
    "[<< 11. Exception Handling](11_exception_handling.ipynb) | [Index](00_index.ipynb) | [13. Useful Python Libraries >>](13_useful_python_libraries.ipynb)"
   ]
  },
  {
   "cell_type": "markdown",
   "metadata": {},
   "source": [
    "# File Handling"
   ]
  },
  {
   "cell_type": "markdown",
   "metadata": {},
   "source": [
    "## Pathlib"
   ]
  },
  {
   "cell_type": "code",
   "execution_count": null,
   "metadata": {},
   "outputs": [],
   "source": [
    "from pathlib import Path"
   ]
  },
  {
   "cell_type": "code",
   "execution_count": null,
   "metadata": {},
   "outputs": [],
   "source": [
    "file_path = Path(\"my_module/hello.py\")\n",
    "print(file_path, type(file_path))"
   ]
  },
  {
   "cell_type": "code",
   "execution_count": null,
   "metadata": {},
   "outputs": [],
   "source": [
    "print(file_path.parent)"
   ]
  },
  {
   "cell_type": "code",
   "execution_count": null,
   "metadata": {},
   "outputs": [],
   "source": [
    "cwd = Path.cwd()\n",
    "print(cwd)"
   ]
  },
  {
   "cell_type": "code",
   "execution_count": null,
   "metadata": {},
   "outputs": [],
   "source": [
    "fake_file = Path(\"/src/my_project/dir/sub_dir/my_file.py\")"
   ]
  },
  {
   "cell_type": "code",
   "execution_count": null,
   "metadata": {},
   "outputs": [],
   "source": [
    "print(fake_file.parent)"
   ]
  },
  {
   "cell_type": "code",
   "execution_count": null,
   "metadata": {},
   "outputs": [],
   "source": [
    "print(list(fake_file.parents))"
   ]
  },
  {
   "cell_type": "code",
   "execution_count": null,
   "metadata": {},
   "outputs": [],
   "source": [
    "print(fake_file.name)\n",
    "print(fake_file.suffix)\n",
    "print(fake_file.stem)\n",
    "print(fake_file.is_absolute())\n",
    "print(fake_file.relative_to(\"/src/my_project\"))"
   ]
  },
  {
   "cell_type": "code",
   "execution_count": null,
   "metadata": {},
   "outputs": [],
   "source": [
    "print(fake_file.exists())\n",
    "print(file_path.exists())"
   ]
  },
  {
   "cell_type": "markdown",
   "metadata": {},
   "source": [
    "Python Documentation: https://docs.python.org/3/library/pathlib.html"
   ]
  },
  {
   "cell_type": "markdown",
   "metadata": {},
   "source": [
    "## Reading files in Python"
   ]
  },
  {
   "cell_type": "code",
   "execution_count": null,
   "metadata": {},
   "outputs": [],
   "source": [
    "hello_file = Path(\"my_module/hello.py\")\n",
    "data = open(hello_file)\n",
    "print(data.read())\n",
    "data.close()"
   ]
  },
  {
   "cell_type": "markdown",
   "metadata": {},
   "source": [
    "## Reading and writing files using with"
   ]
  },
  {
   "cell_type": "code",
   "execution_count": null,
   "metadata": {},
   "outputs": [],
   "source": [
    "with open(hello_file) as fp:\n",
    "    print(fp.read())"
   ]
  },
  {
   "cell_type": "code",
   "execution_count": null,
   "metadata": {},
   "outputs": [],
   "source": [
    "with open(hello_file) as fp:\n",
    "    print(fp.read().splitlines())"
   ]
  },
  {
   "cell_type": "code",
   "execution_count": null,
   "metadata": {},
   "outputs": [],
   "source": [
    "new_file = Path(\"my_module/new_file.txt\")\n",
    "with open(new_file, mode=\"w\") as fp:\n",
    "    fp.write(\"This is my data\")"
   ]
  },
  {
   "cell_type": "markdown",
   "metadata": {},
   "source": [
    "## Reading and writing files using Pathlib"
   ]
  },
  {
   "cell_type": "code",
   "execution_count": null,
   "metadata": {},
   "outputs": [],
   "source": [
    "hello_file = Path(\"my_module/hello.py\")\n",
    "print(hello_file.read_text())"
   ]
  },
  {
   "cell_type": "code",
   "execution_count": null,
   "metadata": {},
   "outputs": [],
   "source": [
    "new_file = Path(\"my_module/new_file.txt\")\n",
    "new_file.write_text(\"This is my new data\")"
   ]
  },
  {
   "cell_type": "markdown",
   "metadata": {},
   "source": [
    "## Multiple with and writing into files using print statement"
   ]
  },
  {
   "cell_type": "code",
   "execution_count": null,
   "metadata": {},
   "outputs": [],
   "source": [
    "hello_file = Path(\"my_module/hello.py\")\n",
    "new_file = Path(\"my_module/new_file.py\")\n",
    "\n",
    "with open(hello_file) as read_fp,  open(new_file, \"w\") as write_fp:\n",
    "    for data in read_fp.read().splitlines():\n",
    "        if data != \"\":\n",
    "            print(data, file=write_fp)"
   ]
  },
  {
   "cell_type": "markdown",
   "metadata": {},
   "source": [
    "## Reading csv files"
   ]
  },
  {
   "cell_type": "code",
   "execution_count": null,
   "metadata": {},
   "outputs": [],
   "source": [
    "import csv"
   ]
  },
  {
   "cell_type": "code",
   "execution_count": null,
   "metadata": {},
   "outputs": [],
   "source": [
    "with open(\"my_module/sample_cities_data.csv\") as fp:\n",
    "    data = csv.DictReader(fp)\n",
    "\n",
    "print(data)"
   ]
  },
  {
   "cell_type": "code",
   "execution_count": null,
   "metadata": {},
   "outputs": [],
   "source": [
    "for line in data:\n",
    "    print(line)"
   ]
  },
  {
   "cell_type": "code",
   "execution_count": null,
   "metadata": {},
   "outputs": [],
   "source": [
    "with open(\"my_module/sample_grades_data.csv\") as fp:\n",
    "    data = csv.DictReader(fp)\n",
    "    for line in data:\n",
    "        print(line)"
   ]
  },
  {
   "cell_type": "code",
   "execution_count": null,
   "metadata": {},
   "outputs": [],
   "source": [
    "with open(\"my_module/sample_grades_data.csv\") as fp:\n",
    "    data = csv.DictReader(fp)\n",
    "    for line in data:\n",
    "        if line[\"Subject\"] == \"English\":\n",
    "            print(line)"
   ]
  },
  {
   "cell_type": "markdown",
   "metadata": {},
   "source": [
    "## Reading JSON files"
   ]
  },
  {
   "cell_type": "code",
   "execution_count": null,
   "metadata": {},
   "outputs": [],
   "source": [
    "import json"
   ]
  },
  {
   "cell_type": "code",
   "execution_count": null,
   "metadata": {},
   "outputs": [],
   "source": [
    "json_path = Path(\"my_module/sample_quiz_data.json\")\n",
    "with open(json_path) as fp:\n",
    "    data = json.load(fp)\n",
    "\n",
    "print(data)"
   ]
  },
  {
   "cell_type": "code",
   "execution_count": null,
   "metadata": {},
   "outputs": [],
   "source": [
    "json_path = Path(\"my_module/sample_quiz_data.json\")\n",
    "with open(json_path) as fp:\n",
    "    data = json.load(fp)\n",
    "\n",
    "print(data[\"quiz\"])"
   ]
  },
  {
   "cell_type": "code",
   "execution_count": null,
   "metadata": {},
   "outputs": [],
   "source": [
    "json_path = Path(\"my_module/sample_quiz_data.json\")\n",
    "with open(json_path) as fp:\n",
    "    data = json.load(fp)\n",
    "\n",
    "print(data[\"quiz\"][\"maths\"][\"q1\"][\"options\"], type(data[\"quiz\"][\"maths\"][\"q1\"][\"options\"]))"
   ]
  },
  {
   "cell_type": "markdown",
   "metadata": {},
   "source": [
    "## Pickling"
   ]
  },
  {
   "cell_type": "code",
   "execution_count": null,
   "metadata": {},
   "outputs": [],
   "source": [
    "import pickle"
   ]
  },
  {
   "cell_type": "code",
   "execution_count": null,
   "metadata": {},
   "outputs": [],
   "source": [
    "json_path = Path(\"my_module/sample_quiz_data.json\")\n",
    "with open(json_path) as fp:\n",
    "    data = json.load(fp)\n",
    "\n",
    "print(data[\"quiz\"][\"maths\"][\"q1\"])\n",
    "\n",
    "pickled_data = pickle.dumps(data[\"quiz\"][\"maths\"][\"q1\"])\n",
    "\n",
    "unpickled_data = pickle.loads(pickled_data)\n",
    "print(unpickled_data)"
   ]
  },
  {
   "cell_type": "code",
   "execution_count": null,
   "metadata": {},
   "outputs": [],
   "source": [
    "json_path = Path(\"my_module/sample_quiz_data.json\")\n",
    "with open(json_path) as fp:\n",
    "    data = json.load(fp)\n",
    "\n",
    "pickled_path = Path(\"my_module/pickled_data.pkl\")\n",
    "with open(pickled_path, \"wb\") as fp:\n",
    "    pickled_data = pickle.dump(data[\"quiz\"][\"maths\"][\"q1\"], fp)"
   ]
  },
  {
   "cell_type": "markdown",
   "metadata": {},
   "source": [
    "## Try it yourself"
   ]
  },
  {
   "cell_type": "markdown",
   "metadata": {},
   "source": [
    "1. Read the first `n` lines of a file.\n",
    "2. Read the last `n` lines of a file.\n",
    "3. Print alternate columns in a CSV file.\n",
    "4. Read all values in a JSON file recursively and print the value in a reverse sorted manner."
   ]
  },
  {
   "cell_type": "markdown",
   "metadata": {},
   "source": [
    "[<< 11. Exception Handling](11_exception_handling.ipynb) | [Index](00_index.ipynb) | [13. Useful Python Libraries >>](13_useful_python_libraries.ipynb)"
   ]
  }
 ],
 "metadata": {
  "kernelspec": {
   "display_name": "Python 3 (ipykernel)",
   "language": "python",
   "name": "python3"
  },
  "language_info": {
   "codemirror_mode": {
    "name": "ipython",
    "version": 3
   },
   "file_extension": ".py",
   "mimetype": "text/x-python",
   "name": "python",
   "nbconvert_exporter": "python",
   "pygments_lexer": "ipython3",
   "version": "3.10.8"
  }
 },
 "nbformat": 4,
 "nbformat_minor": 4
}
