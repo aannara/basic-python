{
 "cells": [
  {
   "attachments": {},
   "cell_type": "markdown",
   "metadata": {},
   "source": [
    "[<< 12. File Handling](12_file_handling.ipynb) | [Index](00_index.ipynb) | [14. Modules in Python >>](14_modules_in_python.ipynb)"
   ]
  },
  {
   "attachments": {},
   "cell_type": "markdown",
   "metadata": {},
   "source": [
    "# Useful Python libraries"
   ]
  },
  {
   "attachments": {},
   "cell_type": "markdown",
   "metadata": {},
   "source": [
    "## Useful Built-in modules"
   ]
  },
  {
   "attachments": {},
   "cell_type": "markdown",
   "metadata": {},
   "source": [
    "## subprocess module"
   ]
  },
  {
   "cell_type": "code",
   "execution_count": null,
   "metadata": {},
   "outputs": [],
   "source": [
    "import subprocess"
   ]
  },
  {
   "cell_type": "code",
   "execution_count": null,
   "metadata": {},
   "outputs": [],
   "source": [
    "subprocess.run([\"ls\", \"-l\"])"
   ]
  },
  {
   "cell_type": "code",
   "execution_count": null,
   "metadata": {},
   "outputs": [],
   "source": [
    "from pprint import pprint"
   ]
  },
  {
   "cell_type": "code",
   "execution_count": null,
   "metadata": {},
   "outputs": [],
   "source": [
    "cmd_result = subprocess.run([\"ls\", \"-l\"], capture_output=True)"
   ]
  },
  {
   "cell_type": "code",
   "execution_count": null,
   "metadata": {},
   "outputs": [],
   "source": [
    "pprint(cmd_result.stdout)"
   ]
  },
  {
   "cell_type": "code",
   "execution_count": null,
   "metadata": {},
   "outputs": [],
   "source": [
    "cmd_result = subprocess.run([\"ls\", \"-l\"], capture_output=True, text=True)"
   ]
  },
  {
   "cell_type": "code",
   "execution_count": null,
   "metadata": {},
   "outputs": [],
   "source": [
    "pprint(cmd_result.stdout)"
   ]
  },
  {
   "cell_type": "code",
   "execution_count": null,
   "metadata": {},
   "outputs": [],
   "source": [
    "print(cmd_result.stderr)"
   ]
  },
  {
   "cell_type": "code",
   "execution_count": null,
   "metadata": {},
   "outputs": [],
   "source": [
    "print(cmd_result.returncode)"
   ]
  },
  {
   "attachments": {},
   "cell_type": "markdown",
   "metadata": {},
   "source": [
    "Python Documentation: https://docs.python.org/3/library/subprocess.html"
   ]
  },
  {
   "attachments": {},
   "cell_type": "markdown",
   "metadata": {},
   "source": [
    "## os module"
   ]
  },
  {
   "attachments": {},
   "cell_type": "markdown",
   "metadata": {},
   "source": [
    "Getting and setting env"
   ]
  },
  {
   "cell_type": "code",
   "execution_count": null,
   "metadata": {},
   "outputs": [],
   "source": [
    "import os\n",
    "\n",
    "print(os.getenv(\"PATH\"))\n",
    "print(os.environ[\"PATH\"])\n",
    "os.environ[\"MYVAR\"] = \"value\"\n",
    "print(os.environ[\"MYVAR\"])"
   ]
  },
  {
   "attachments": {},
   "cell_type": "markdown",
   "metadata": {},
   "source": [
    "Equivalent Pathlib module instead of os module: https://docs.python.org/3/library/pathlib.html#correspondence-to-tools-in-the-os-module"
   ]
  },
  {
   "attachments": {},
   "cell_type": "markdown",
   "metadata": {},
   "source": [
    "Python Documentation: https://docs.python.org/3/library/os.html"
   ]
  },
  {
   "attachments": {},
   "cell_type": "markdown",
   "metadata": {},
   "source": [
    "## shutil module"
   ]
  },
  {
   "cell_type": "code",
   "execution_count": null,
   "metadata": {},
   "outputs": [],
   "source": [
    "# shutil.copyfile(src, dst, *, follow_symlinks=True)\n",
    "# shutil.copy(src, dst, *, follow_symlinks=True)\n",
    "# shutil.copy2(src, dst, *, follow_symlinks=True)\n",
    "# shutil.copytree(src, dst, symlinks=False, ignore=None, \n",
    "#                   copy_function=copy2, ignore_dangling_symlinks=False, \n",
    "#                   dirs_exist_ok=False)\n",
    "# shutil.rmtree(path, ignore_errors=False, onerror=None, *, dir_fd=None)\n",
    "# shutil.make_archive(base_name, format[, root_dir[, base_dir[, \n",
    "#                       verbose[, dry_run[, owner[, group[, logger]]]]]]])\n",
    "# shutil.unpack_archive(filename[, extract_dir[, format[, filter]]])"
   ]
  },
  {
   "attachments": {},
   "cell_type": "markdown",
   "metadata": {},
   "source": [
    "Python Documentation: https://docs.python.org/3/library/shutil.html"
   ]
  },
  {
   "attachments": {},
   "cell_type": "markdown",
   "metadata": {},
   "source": [
    "## datetime module"
   ]
  },
  {
   "cell_type": "code",
   "execution_count": null,
   "metadata": {},
   "outputs": [],
   "source": [
    "import time\n",
    "from datetime import date\n",
    "today = date.today()\n",
    "print(today)\n",
    "\n",
    "print(today == date.fromtimestamp(time.time()))\n",
    "\n",
    "my_birthday = date(today.year, 6, 24)\n",
    "if my_birthday < today:\n",
    "    my_birthday = my_birthday.replace(year=today.year + 1)\n",
    "print(my_birthday)\n",
    "\n",
    "time_to_birthday = abs(my_birthday - today)\n",
    "print(time_to_birthday.days)"
   ]
  },
  {
   "cell_type": "code",
   "execution_count": null,
   "metadata": {},
   "outputs": [],
   "source": [
    "from datetime import date\n",
    "d = date.fromordinal(730920) # 730920th day after 1. 1. 0001\n",
    "print(d)\n",
    "\n",
    "# Methods related to formatting string output\n",
    "print(d.isoformat())\n",
    "\n",
    "print(d.strftime(\"%d/%m/%y\"))\n",
    "\n",
    "print(d.strftime(\"%A %d. %B %Y\"))\n",
    "\n",
    "print(d.ctime())\n",
    "\n",
    "print(f\"The day is {d:%d}, the month is {d:%B}.\")\n",
    "\n",
    "# Methods for to extracting \"components\" under different calendars\n",
    "t = d.timetuple()\n",
    "for i in t:     \n",
    "    print(i)\n",
    "\n",
    "ic = d.isocalendar()\n",
    "for i in ic:    \n",
    "    print(i)\n",
    "\n",
    "# A date object is immutable; all operations produce a new object\n",
    "print(d.replace(year=2005))"
   ]
  },
  {
   "attachments": {},
   "cell_type": "markdown",
   "metadata": {},
   "source": [
    "Python Documentation: https://docs.python.org/3/library/datetime.html"
   ]
  },
  {
   "attachments": {},
   "cell_type": "markdown",
   "metadata": {},
   "source": [
    "## random module"
   ]
  },
  {
   "cell_type": "code",
   "execution_count": null,
   "metadata": {},
   "outputs": [],
   "source": [
    "import random\n",
    "\n",
    "print(random.randrange(10))\n",
    "print(random.randrange(5, 10, 2))\n",
    "print(random.randint(100, 200))"
   ]
  },
  {
   "cell_type": "code",
   "execution_count": null,
   "metadata": {},
   "outputs": [],
   "source": [
    "num_list = [1, 4, 3343, 223, 11, 204, 553, 245]\n",
    "print(random.choice(num_list))\n",
    "print(random.choices(num_list, k=3))"
   ]
  },
  {
   "cell_type": "code",
   "execution_count": null,
   "metadata": {},
   "outputs": [],
   "source": [
    "random.seed(101)"
   ]
  },
  {
   "cell_type": "code",
   "execution_count": null,
   "metadata": {},
   "outputs": [],
   "source": [
    "print(random.randrange(10))\n",
    "print(random.randrange(5, 10, 2))\n",
    "print(random.randint(100, 200))"
   ]
  },
  {
   "cell_type": "code",
   "execution_count": null,
   "metadata": {},
   "outputs": [],
   "source": [
    "random.seed(None)"
   ]
  },
  {
   "attachments": {},
   "cell_type": "markdown",
   "metadata": {},
   "source": [
    "Python Documentation: https://docs.python.org/3/library/random.html"
   ]
  },
  {
   "attachments": {},
   "cell_type": "markdown",
   "metadata": {},
   "source": [
    "## string module"
   ]
  },
  {
   "cell_type": "code",
   "execution_count": null,
   "metadata": {},
   "outputs": [],
   "source": [
    "import string\n",
    "\n",
    "print(string.ascii_lowercase)\n",
    "print(string.ascii_uppercase)\n",
    "print(string.ascii_letters)\n",
    "print(string.digits)\n",
    "print(string.hexdigits)\n",
    "print(string.octdigits)\n",
    "print(string.punctuation)\n",
    "print(string.printable)"
   ]
  },
  {
   "attachments": {},
   "cell_type": "markdown",
   "metadata": {},
   "source": [
    "Python Documentation: https://docs.python.org/3/library/string.html"
   ]
  },
  {
   "attachments": {},
   "cell_type": "markdown",
   "metadata": {},
   "source": [
    "## collections module"
   ]
  },
  {
   "cell_type": "code",
   "execution_count": null,
   "metadata": {},
   "outputs": [],
   "source": [
    "from collections import ChainMap\n",
    "\n",
    "for_adoption = {\"dogs\": 10, \"cats\": 7, \"pythons\": 3}\n",
    "vet_treatment = {\"dogs\": 4, \"cats\": 3, \"turtles\": 1}\n",
    "pets = ChainMap(for_adoption, vet_treatment)\n",
    "\n",
    "print(pets)"
   ]
  },
  {
   "cell_type": "code",
   "execution_count": null,
   "metadata": {},
   "outputs": [],
   "source": [
    "from collections import Counter\n",
    "\n",
    "counter = Counter([\"red\", \"blue\", \"red\", \"green\", \"blue\", \"blue\"])\n",
    "print(counter)\n",
    "print(counter[\"blue\"])\n",
    "print(counter[\"yellow\"])"
   ]
  },
  {
   "attachments": {},
   "cell_type": "markdown",
   "metadata": {},
   "source": [
    "Python Documentation: https://docs.python.org/3/library/collections.html"
   ]
  },
  {
   "attachments": {},
   "cell_type": "markdown",
   "metadata": {},
   "source": [
    "## itertools module"
   ]
  },
  {
   "cell_type": "code",
   "execution_count": null,
   "metadata": {},
   "outputs": [],
   "source": [
    "from itertools import permutations, combinations\n",
    "\n",
    "print(permutations(\"ABCD\", 2))\n",
    "print(combinations(\"ABCD\", 2))"
   ]
  },
  {
   "attachments": {},
   "cell_type": "markdown",
   "metadata": {},
   "source": [
    "Python Documentation: https://docs.python.org/3/library/itertools.html"
   ]
  },
  {
   "attachments": {},
   "cell_type": "markdown",
   "metadata": {},
   "source": [
    "## Useful 3rd party modules"
   ]
  },
  {
   "attachments": {},
   "cell_type": "markdown",
   "metadata": {},
   "source": [
    "- [more-itertools](https://github.com/more-itertools/more-itertools)\n",
    "- [requests](https://requests.readthedocs.io/en/latest/)\n",
    "- [numpy](https://numpy.org/doc/stable/)\n",
    "- [pandas](https://pandas.pydata.org/docs/)\n",
    "- [FastAPI](https://fastapi.tiangolo.com/)\n",
    "- [Pytest](https://docs.pytest.org/en/latest/)\n",
    "- [Streamlit](https://docs.streamlit.io/)\n",
    "\n",
    "and many many more..."
   ]
  },
  {
   "attachments": {},
   "cell_type": "markdown",
   "metadata": {},
   "source": [
    "## Searching for any library in PyPI"
   ]
  },
  {
   "attachments": {},
   "cell_type": "markdown",
   "metadata": {},
   "source": [
    "PyPI URL: https://pypi.org/"
   ]
  },
  {
   "attachments": {},
   "cell_type": "markdown",
   "metadata": {},
   "source": [
    "[<< 12. File Handling](12_file_handling.ipynb) | [Index](00_index.ipynb) | [14. Modules in Python >>](14_modules_in_python.ipynb)"
   ]
  }
 ],
 "metadata": {
  "kernelspec": {
   "display_name": ".venv",
   "language": "python",
   "name": "python3"
  },
  "language_info": {
   "codemirror_mode": {
    "name": "ipython",
    "version": 3
   },
   "file_extension": ".py",
   "mimetype": "text/x-python",
   "name": "python",
   "nbconvert_exporter": "python",
   "pygments_lexer": "ipython3",
   "version": "3.10.8"
  },
  "orig_nbformat": 4
 },
 "nbformat": 4,
 "nbformat_minor": 2
}
