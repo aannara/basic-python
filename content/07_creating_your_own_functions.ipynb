{
 "cells": [
  {
   "attachments": {},
   "cell_type": "markdown",
   "metadata": {},
   "source": [
    "[<< 6. Regular Expressions](06_regular_expressions.ipynb) | [Index](00_index.ipynb) | [8. Maps Filters and Lambdas >>](08_maps_filters_lambda.ipynb)"
   ]
  },
  {
   "attachments": {},
   "cell_type": "markdown",
   "metadata": {},
   "source": [
    "# Creating your own functions"
   ]
  },
  {
   "attachments": {},
   "cell_type": "markdown",
   "metadata": {},
   "source": [
    "## Builtin functions"
   ]
  },
  {
   "cell_type": "code",
   "execution_count": null,
   "metadata": {},
   "outputs": [],
   "source": [
    "range(6)"
   ]
  },
  {
   "cell_type": "code",
   "execution_count": null,
   "metadata": {},
   "outputs": [],
   "source": [
    "range(1, 6)"
   ]
  },
  {
   "cell_type": "code",
   "execution_count": null,
   "metadata": {},
   "outputs": [],
   "source": [
    "range(1, 6, 2)"
   ]
  },
  {
   "cell_type": "code",
   "execution_count": null,
   "metadata": {},
   "outputs": [],
   "source": [
    "sum([1, 2, 3, 4, 5])\n",
    "sum(range(6))"
   ]
  },
  {
   "cell_type": "code",
   "execution_count": null,
   "metadata": {},
   "outputs": [],
   "source": [
    "zip"
   ]
  },
  {
   "attachments": {},
   "cell_type": "markdown",
   "metadata": {},
   "source": [
    "Python documentation: https://docs.python.org/3/library/functions.html"
   ]
  },
  {
   "attachments": {},
   "cell_type": "markdown",
   "metadata": {},
   "source": [
    "## Structure of a function"
   ]
  },
  {
   "attachments": {},
   "cell_type": "markdown",
   "metadata": {},
   "source": [
    "```markdown\n",
    "def function_name(parameter1, parameter2):\n",
    "    \"Function docstring\"\n",
    "    Function logic\n",
    "    return something\n",
    "```\n",
    "\n",
    "Points to note:\n",
    "- def is the keyword used when created a function\n",
    "- function_name is the name of the function and follows the same rules as variable naming\n",
    "- function parameters can have any number of values and it can also be 0\n",
    "- Docstring is used to explain what this function is supposed to do. This helps in documentation\n",
    "- Function logic is the logic that you want to be executed when calling the function\n",
    "- return is a keyword. The variable after return is what is given back when you call this function"
   ]
  },
  {
   "attachments": {},
   "cell_type": "markdown",
   "metadata": {},
   "source": [
    "Creating a function"
   ]
  },
  {
   "cell_type": "code",
   "execution_count": null,
   "metadata": {},
   "outputs": [],
   "source": [
    "def check_even_or_odd(num):\n",
    "    \"Check if input is even or odd\"\n",
    "\n",
    "    value = \"\"\n",
    "    if num % 2 == 0:\n",
    "        value = \"Even\"\n",
    "    else:\n",
    "        value = \"Odd\"\n",
    "    return value"
   ]
  },
  {
   "attachments": {},
   "cell_type": "markdown",
   "metadata": {},
   "source": [
    "Calling a function"
   ]
  },
  {
   "cell_type": "code",
   "execution_count": null,
   "metadata": {},
   "outputs": [],
   "source": [
    "print(check_even_or_odd(123))"
   ]
  },
  {
   "attachments": {},
   "cell_type": "markdown",
   "metadata": {},
   "source": [
    "Scope of variables (LEGB, Local->Enclosed->Global->Built-in)"
   ]
  },
  {
   "cell_type": "code",
   "execution_count": null,
   "metadata": {},
   "outputs": [],
   "source": [
    "def func1():\n",
    "    a = 1\n",
    "    print(b)\n",
    "\n",
    "def func2():\n",
    "    b = 2\n",
    "    print(a)\n",
    "\n",
    "func1()\n",
    "func2()"
   ]
  },
  {
   "cell_type": "code",
   "execution_count": null,
   "metadata": {},
   "outputs": [],
   "source": [
    "def func1():\n",
    "    x = 1\n",
    "    print(x)\n",
    "\n",
    "def func2():\n",
    "    x = 2\n",
    "    print(x)\n",
    "\n",
    "func1()\n",
    "func2()"
   ]
  },
  {
   "cell_type": "code",
   "execution_count": null,
   "metadata": {},
   "outputs": [],
   "source": [
    "def func1():\n",
    "    x = 1\n",
    "\n",
    "    def func2():\n",
    "        x = 2\n",
    "        print(x)\n",
    "    func2()\n",
    "    print(x)\n",
    "\n",
    "func1()"
   ]
  },
  {
   "cell_type": "code",
   "execution_count": null,
   "metadata": {},
   "outputs": [],
   "source": [
    "num = 10\n",
    "\n",
    "def add_one(num):\n",
    "    \"Add one to the input\"\n",
    "    \n",
    "    print(f\"Value passed to the function: {num}\")\n",
    "    num = num + 1\n",
    "    print(f\"Value after adding one: {num}\")\n",
    "    return num\n",
    "\n",
    "print(f\"Value before calling the function: {num}\")\n",
    "add_one(num)\n",
    "print(f\"Value after calling the function: {num}\")"
   ]
  },
  {
   "attachments": {},
   "cell_type": "markdown",
   "metadata": {},
   "source": [
    "## Order of parameters and default values"
   ]
  },
  {
   "cell_type": "code",
   "execution_count": null,
   "metadata": {},
   "outputs": [],
   "source": [
    "def sum_of_inputs(num1, num2):\n",
    "    return num1 + num2\n",
    "\n",
    "print(sum_of_inputs(1, 2))\n",
    "print(sum_of_inputs(2, 1))"
   ]
  },
  {
   "cell_type": "code",
   "execution_count": null,
   "metadata": {},
   "outputs": [],
   "source": [
    "def division(num1, num2):\n",
    "    return num1/num2\n",
    "\n",
    "print(division(4, 8))\n",
    "print(division(8, 4))\n",
    "print(division(num1=4, num2=8))\n",
    "print(division(num2=4, num1=8))"
   ]
  },
  {
   "cell_type": "code",
   "execution_count": null,
   "metadata": {},
   "outputs": [],
   "source": [
    "def sum_of_three_values(num1, num2, num3=0):\n",
    "    return num1 + num2 + num3\n",
    "\n",
    "print(sum_of_three_values(1, 2, 3))\n",
    "print(sum_of_three_values(1, 2))"
   ]
  },
  {
   "attachments": {},
   "cell_type": "markdown",
   "metadata": {},
   "source": [
    "Using *args"
   ]
  },
  {
   "cell_type": "code",
   "execution_count": null,
   "metadata": {},
   "outputs": [],
   "source": [
    "def sum_of_any_number_of_values(*nums):\n",
    "    print(nums)\n",
    "    total = 0\n",
    "    for num in nums:\n",
    "        total += num\n",
    "    return total\n",
    "\n",
    "sum_of_any_number_of_values(1, 2, 3, 4, 5)"
   ]
  },
  {
   "cell_type": "code",
   "execution_count": null,
   "metadata": {},
   "outputs": [],
   "source": [
    "def sum_from_third_element(num1, num2, *nums):\n",
    "    print(num1)\n",
    "    print(num2)\n",
    "    print(nums)\n",
    "    return sum(nums)\n",
    "\n",
    "sum_from_third_element(1, 2, 3, 4, 5)"
   ]
  },
  {
   "attachments": {},
   "cell_type": "markdown",
   "metadata": {},
   "source": [
    "Using **kwargs"
   ]
  },
  {
   "cell_type": "code",
   "execution_count": null,
   "metadata": {},
   "outputs": [],
   "source": [
    "def sum_of_any_number_of_values(**kwargs):\n",
    "    print(kwargs)\n",
    "    return sum(kwargs)\n",
    "\n",
    "sum_of_any_number_of_values(num3s=3, num4=4, num1=1, num2=2, num5=5)"
   ]
  },
  {
   "cell_type": "code",
   "execution_count": null,
   "metadata": {},
   "outputs": [],
   "source": [
    "def sum_of_any_number_of_values(*args, **kwargs):\n",
    "    args_sum = sum(args)\n",
    "    kwargs_sum = sum(kwargs.values())\n",
    "    return args_sum + kwargs_sum\n",
    "\n",
    "sum_of_any_number_of_values(1, 2, 3, num5=5, num4=4)"
   ]
  },
  {
   "attachments": {},
   "cell_type": "markdown",
   "metadata": {},
   "source": [
    "## Recursion"
   ]
  },
  {
   "cell_type": "code",
   "execution_count": null,
   "metadata": {},
   "outputs": [
    {
     "data": {
      "text/plain": [
       "120"
      ]
     },
     "metadata": {},
     "output_type": "display_data"
    }
   ],
   "source": [
    "def factorial(num):\n",
    "    if num == 1:\n",
    "        return 1\n",
    "    return num * factorial(num-1)\n",
    "\n",
    "factorial(5)"
   ]
  },
  {
   "attachments": {},
   "cell_type": "markdown",
   "metadata": {},
   "source": [
    "## Try it yourself"
   ]
  },
  {
   "attachments": {},
   "cell_type": "markdown",
   "metadata": {},
   "source": [
    "- Write a function to take any number of inputs and return the sum of all integers in it\n",
    "   - ex 1: sum_function(1, 2, 3) => 6\n",
    "   - ex 2: sum_function(1, \"Two\", 3.0, 4) => 1 + 4 = 5\n",
    "   - ex 3: sum_function(\"a\", \"b\", \"c\") => 0\n",
    "- Convert the factorial program into a non-recursive program"
   ]
  },
  {
   "attachments": {},
   "cell_type": "markdown",
   "metadata": {},
   "source": [
    "[<< 6. Regular Expressions](06_regular_expressions.ipynb) | [Index](00_index.ipynb) | [8. Maps Filters and Lambdas >>](08_maps_filters_lambda.ipynb)"
   ]
  }
 ],
 "metadata": {
  "kernelspec": {
   "display_name": ".venv",
   "language": "python",
   "name": "python3"
  },
  "language_info": {
   "codemirror_mode": {
    "name": "ipython",
    "version": 3
   },
   "file_extension": ".py",
   "mimetype": "text/x-python",
   "name": "python",
   "nbconvert_exporter": "python",
   "pygments_lexer": "ipython3",
   "version": "3.10.8"
  },
  "orig_nbformat": 4
 },
 "nbformat": 4,
 "nbformat_minor": 2
}
