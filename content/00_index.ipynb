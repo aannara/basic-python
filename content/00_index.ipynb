{
 "cells": [
  {
   "cell_type": "markdown",
   "metadata": {},
   "source": [
    "# Course Content\n",
    "\n",
    "### Day 1\n",
    "- [Python Fundamentals Refresh](01_python_fundamentals_refresh.ipynb)\n",
    "- [Basics of Python](02_python_basics.ipynb)\n",
    "- [Lists, Tuples, Sets and Dictionaries](03_lists_tuples_sets_dictionaries.ipynb)\n",
    "- [Data flow control](04_data_flow_control.ipynb)\n",
    "- [String manipulation](05_string_manipulation.ipynb)\n",
    "- [Regular expressions](06_regular_expressions.ipynb)\n",
    "- [Creating your own functions](07_creating_your_own_functions.ipynb)\n",
    "### Day 2\n",
    "- [Maps, Filters and Lambdas](08_maps_filters_lambda.ipynb)\n",
    "- [Comprehensions in Python](09_comprehensions_in_python.ipynb)\n",
    "- [Object Oriented Programming](10_object_oriented_programming.ipynb)\n",
    "### Day 3\n",
    "- [Exception Handling](11_exception_handling.ipynb)\n",
    "- [File Handling](12_file_handling.ipynb)\n",
    "- [Useful Python libraries](13_useful_python_libraries.ipynb)\n",
    "- [Modules in Python](14_modules_in_python.ipynb)\n",
    "- [Docstrings and Code Linting](15_docstrings_and_code_linting.ipynb)\n",
    "- [Unit Testing](16_unit_testing.ipynb)"
   ]
  },
  {
   "cell_type": "markdown",
   "metadata": {},
   "source": [
    "[1. Python Fundamentals Refresh >>](01_python_fundamentals_refresh.ipynb)"
   ]
  }
 ],
 "metadata": {
  "kernelspec": {
   "display_name": "Python 3 (ipykernel)",
   "language": "python",
   "name": "python3"
  },
  "language_info": {
   "codemirror_mode": {
    "name": "ipython",
    "version": 3
   },
   "file_extension": ".py",
   "mimetype": "text/x-python",
   "name": "python",
   "nbconvert_exporter": "python",
   "pygments_lexer": "ipython3",
   "version": "3.10.8"
  }
 },
 "nbformat": 4,
 "nbformat_minor": 4
}
