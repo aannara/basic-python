{
 "cells": [
  {
   "attachments": {},
   "cell_type": "markdown",
   "metadata": {},
   "source": [
    "# Course Content\n",
    "\n",
    "### Day 1\n",
    "- Python Fundamentals Refresh\n",
    "- Basics of Python\n",
    "- Lists, Tuples, Sets and Dictionaries\n",
    "- Data flow control\n",
    "- String manipulation\n",
    "- Regular expressions\n",
    "- Creating your own functions\n",
    "- Maps, Filters and Lambdas\n",
    "- Comprehensions in Python\n",
    "### Day 2\n",
    "- Object Oriented Programming\n",
    "- Exception Handling\n",
    "- File Handling\n",
    "- Useful Python libraries (os, sys, collections, datetime)\n",
    "- Modules in Python (your own script and how to use requests module)\n",
    "- Docstrings and Code Linting\n",
    "- Unit Testing\n",
    "\n",
    "### If we have more time:\n",
    "- Writing a file renaming script\n",
    "- Collecting data from HSD ES"
   ]
  },
  {
   "attachments": {},
   "cell_type": "markdown",
   "metadata": {},
   "source": [
    "[1. Python Fundamentals Refresh >>](01_python_fundamentals_refresh.ipynb)"
   ]
  }
 ],
 "metadata": {
  "language_info": {
   "name": "python"
  },
  "orig_nbformat": 4
 },
 "nbformat": 4,
 "nbformat_minor": 2
}
