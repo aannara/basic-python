{
 "cells": [
  {
   "attachments": {},
   "cell_type": "markdown",
   "metadata": {},
   "source": [
    "[<< 9. Comprehensions in Python](09_comprehensions_in_python.ipynb) | [Index](00_index.ipynb) | [11. Exception Handling >>](11_exception_handling.ipynb)"
   ]
  },
  {
   "attachments": {},
   "cell_type": "markdown",
   "metadata": {},
   "source": [
    "# Object Oriented Programming"
   ]
  },
  {
   "attachments": {},
   "cell_type": "markdown",
   "metadata": {},
   "source": [
    "Object oriented programming is a concept of programming using classes and objects rather than functions and variables.\n",
    "\n",
    "You can use OOP to structure a program into simple and reusable pieces which can be used to create individual instances of objects.\n",
    "\n",
    "Converting a complex problem into an object oriented model makes it very easy to understand, write code for it and extend when needed.\n",
    "\n",
    "### Object Oriented Programming Building blocks:\n",
    "- Class\n",
    "- Object\n",
    "- Attribute\n",
    "- Method\n",
    "\n",
    "### Object Oriented Programming Concepts:\n",
    "- Abstraction\n",
    "- Encapsulation\n",
    "- Inheritance\n",
    "- Polymorphism"
   ]
  },
  {
   "attachments": {},
   "cell_type": "markdown",
   "metadata": {},
   "source": [
    "## A simple example of OOP in Python"
   ]
  },
  {
   "cell_type": "code",
   "execution_count": null,
   "metadata": {},
   "outputs": [],
   "source": [
    "class Dog: # Dog is a class\n",
    "    def __init__(self, name, age) -> None: # This is the initializer of the class\n",
    "        self.name:str = name # self.name is an attribute, str is the data type\n",
    "        self.age:int = age\n",
    "\n",
    "    def bark(self) -> None: # bark is a method\n",
    "        print(\"Woof!\")\n",
    "    \n",
    "    def say_name(self) -> None:\n",
    "        print(f\"Hello I am {self.name} the dog!\")"
   ]
  },
  {
   "cell_type": "code",
   "execution_count": null,
   "metadata": {},
   "outputs": [],
   "source": [
    "max = Dog(name=\"max\", age=5) # max is an object of the class Dog\n",
    "max.bark()\n",
    "max.say_name()"
   ]
  },
  {
   "cell_type": "code",
   "execution_count": null,
   "metadata": {},
   "outputs": [],
   "source": [
    "rocky = Dog(name=\"rocky\", age=2)\n",
    "rocky.bark()\n",
    "rocky.say_name()"
   ]
  },
  {
   "cell_type": "code",
   "execution_count": null,
   "metadata": {},
   "outputs": [],
   "source": [
    "from dataclasses import dataclass"
   ]
  },
  {
   "cell_type": "code",
   "execution_count": null,
   "metadata": {},
   "outputs": [],
   "source": [
    "@dataclass\n",
    "class Dog:\n",
    "    name: str\n",
    "    age: int\n",
    "\n",
    "    def bark(self) -> None:\n",
    "        print(\"Woof!\")\n",
    "    \n",
    "    def say_name(self) -> None:\n",
    "        print(f\"Hello I am {self.name} the dog!\")"
   ]
  },
  {
   "cell_type": "code",
   "execution_count": null,
   "metadata": {},
   "outputs": [],
   "source": [
    "max = Dog(name=\"max\", age=5)\n",
    "max.bark()\n",
    "max.say_name()"
   ]
  },
  {
   "cell_type": "code",
   "execution_count": null,
   "metadata": {},
   "outputs": [],
   "source": [
    "rocky = Dog(name=\"rocky\", age=2)\n",
    "rocky.bark()\n",
    "rocky.say_name()"
   ]
  },
  {
   "cell_type": "code",
   "execution_count": null,
   "metadata": {},
   "outputs": [],
   "source": [
    "class Dog: # Dog is a class\n",
    "\n",
    "    num_of_legs = 4\n",
    "    \n",
    "    def __init__(self, name, age) -> None: # This is the initializer of the class\n",
    "        self.name:str = name # self.name is an attribute, str is the data type\n",
    "        self.age:int = age\n",
    "\n",
    "    def bark(self) -> None: # bark is a method\n",
    "        print(\"Woof!\")\n",
    "    \n",
    "    def say_name(self) -> None:\n",
    "        print(f\"Hello I am {self.name} the dog!\")"
   ]
  },
  {
   "cell_type": "code",
   "execution_count": null,
   "metadata": {},
   "outputs": [],
   "source": [
    "max = Dog(name=\"max\", age=5)\n",
    "max.bark()\n",
    "max.say_name()"
   ]
  },
  {
   "cell_type": "code",
   "execution_count": null,
   "metadata": {},
   "outputs": [],
   "source": [
    "rocky = Dog(name=\"rocky\", age=2)\n",
    "rocky.bark()\n",
    "rocky.say_name()"
   ]
  },
  {
   "cell_type": "code",
   "execution_count": null,
   "metadata": {},
   "outputs": [],
   "source": [
    "print(max.num_of_legs)\n",
    "print(Dog.num_of_legs)\n",
    "print(rocky.num_of_legs)\n",
    "Dog.num_of_legs = 2\n",
    "print(max.num_of_legs)\n",
    "print(Dog.num_of_legs)\n",
    "print(rocky.num_of_legs)\n",
    "rocky.num_of_legs = 6\n",
    "print(max.num_of_legs)\n",
    "print(Dog.num_of_legs)\n",
    "print(rocky.num_of_legs)"
   ]
  },
  {
   "cell_type": "code",
   "execution_count": null,
   "metadata": {},
   "outputs": [],
   "source": [
    "class Cat:\n",
    "    def __init__(self, name, age) -> None: \n",
    "        self.name:str = name # self.name is an attribute, str is the data type\n",
    "        self.age:int = age\n",
    "\n",
    "    def meow(self) -> None: # bark is a method\n",
    "        print(\"Meow!\")\n",
    "    \n",
    "    def say_name(self) -> None:\n",
    "        print(f\"Hello I am {self.name} the cat!\")"
   ]
  },
  {
   "cell_type": "code",
   "execution_count": null,
   "metadata": {},
   "outputs": [],
   "source": [
    "luna = Cat(\"Luna\", 3)\n",
    "luna.meow()\n",
    "luna.say_name()"
   ]
  },
  {
   "cell_type": "code",
   "execution_count": null,
   "metadata": {},
   "outputs": [],
   "source": [
    "oliver = Cat(\"Oliver\", 7)\n",
    "oliver.meow()\n",
    "oliver.say_name()"
   ]
  },
  {
   "cell_type": "code",
   "execution_count": null,
   "metadata": {},
   "outputs": [],
   "source": [
    "class Animal:\n",
    "    def __init__(self, name, age, type) -> None:\n",
    "        self.name = name\n",
    "        self.age = age\n",
    "        self.type = type\n",
    "\n",
    "    def make_sound(self) -> None:\n",
    "        if self.type == \"dog\":\n",
    "            print(\"Woof\")\n",
    "        if self.type == \"cat\":\n",
    "            print(\"Meow!\")\n",
    "    \n",
    "    def say_name(self) -> None:\n",
    "        print(f\"Hello I am {self.name} the {self.type}!\")"
   ]
  },
  {
   "cell_type": "code",
   "execution_count": null,
   "metadata": {},
   "outputs": [],
   "source": [
    "max = Animal(name=\"max\", age=5, type=\"dog\")\n",
    "max.make_sound()\n",
    "max.say_name()"
   ]
  },
  {
   "cell_type": "code",
   "execution_count": null,
   "metadata": {},
   "outputs": [],
   "source": [
    "luna = Animal(\"Luna\", 3, type=\"cat\")\n",
    "luna.make_sound()\n",
    "luna.say_name()"
   ]
  },
  {
   "attachments": {},
   "cell_type": "markdown",
   "metadata": {},
   "source": [
    "## Inheritance"
   ]
  },
  {
   "cell_type": "code",
   "execution_count": null,
   "metadata": {},
   "outputs": [],
   "source": [
    "class Animal:\n",
    "    def __init__(self, name, age) -> None:\n",
    "        self.name = name\n",
    "        self.age = age\n",
    "\n",
    "    def eat_food(self):\n",
    "        print(\"I am eating food!\")\n",
    "\n",
    "    def drink_water(self):\n",
    "        print(f\"{self.name} is drinking water!!\")\n",
    "\n",
    "    def say_age(self):\n",
    "        print(f\"I am {self.age} years old!\")"
   ]
  },
  {
   "cell_type": "code",
   "execution_count": null,
   "metadata": {},
   "outputs": [],
   "source": [
    "class Dog(Animal):\n",
    "\n",
    "    def __init__(self, name) -> None:\n",
    "        self.name = name\n",
    "\n",
    "    def bark(self):\n",
    "        print(\"Woof!\")\n",
    "\n",
    "    def say_name(self):\n",
    "        print(f\"Hello I am {self.name} the dog!\")"
   ]
  },
  {
   "cell_type": "code",
   "execution_count": null,
   "metadata": {},
   "outputs": [],
   "source": [
    "max = Dog(name=\"max\")\n",
    "max.bark()\n",
    "max.say_name()"
   ]
  },
  {
   "cell_type": "code",
   "execution_count": null,
   "metadata": {},
   "outputs": [],
   "source": [
    "max.eat_food()\n",
    "max.drink_water()"
   ]
  },
  {
   "cell_type": "code",
   "execution_count": null,
   "metadata": {},
   "outputs": [],
   "source": [
    "max.say_age()"
   ]
  },
  {
   "cell_type": "code",
   "execution_count": null,
   "metadata": {},
   "outputs": [],
   "source": [
    "class Dog(Animal):\n",
    "\n",
    "    def __init__(self, name, age) -> None:\n",
    "        self.name = name\n",
    "        self.age = age\n",
    "\n",
    "    def bark(self):\n",
    "        print(\"Woof!\")\n",
    "\n",
    "    def say_name(self):\n",
    "        print(f\"Hello I am {self.name} the dog!\")"
   ]
  },
  {
   "cell_type": "code",
   "execution_count": null,
   "metadata": {},
   "outputs": [],
   "source": [
    "max = Dog(name=\"max\", age=5)\n",
    "max.bark()\n",
    "max.say_name()"
   ]
  },
  {
   "cell_type": "code",
   "execution_count": null,
   "metadata": {},
   "outputs": [],
   "source": [
    "max.eat_food()\n",
    "max.drink_water()"
   ]
  },
  {
   "cell_type": "code",
   "execution_count": null,
   "metadata": {},
   "outputs": [],
   "source": [
    "max.say_age()"
   ]
  },
  {
   "cell_type": "code",
   "execution_count": null,
   "metadata": {},
   "outputs": [],
   "source": [
    "class Dog(Animal): # DO NOT DO THIS, always use __init__\n",
    "\n",
    "    def bark(self):\n",
    "        print(\"Woof!\")\n",
    "\n",
    "    def say_name(self):\n",
    "        print(f\"Hello I am {self.name} the dog!\")"
   ]
  },
  {
   "cell_type": "code",
   "execution_count": null,
   "metadata": {},
   "outputs": [],
   "source": [
    "max = Dog(name=\"max\", age=5)\n",
    "max.bark()\n",
    "max.say_name()"
   ]
  },
  {
   "cell_type": "code",
   "execution_count": null,
   "metadata": {},
   "outputs": [],
   "source": [
    "max.eat_food()\n",
    "max.drink_water()"
   ]
  },
  {
   "cell_type": "code",
   "execution_count": null,
   "metadata": {},
   "outputs": [],
   "source": [
    "max.say_age()"
   ]
  },
  {
   "attachments": {},
   "cell_type": "markdown",
   "metadata": {},
   "source": [
    "## Polymorphism"
   ]
  },
  {
   "attachments": {},
   "cell_type": "markdown",
   "metadata": {},
   "source": [
    "### Method overloading"
   ]
  },
  {
   "cell_type": "code",
   "execution_count": null,
   "metadata": {},
   "outputs": [],
   "source": [
    "class Animal:\n",
    "    def __init__(self, name, age) -> None:\n",
    "        self.name = name\n",
    "        self.age = age\n",
    "\n",
    "    def eat_food(self):\n",
    "        print(\"I am eating food!\")\n",
    "\n",
    "    def drink_water(self):\n",
    "        print(f\"{self.name} is drinking water!!\")\n",
    "\n",
    "    def say_age(self):\n",
    "        print(f\"I am {self.age} years old!\")\n",
    "\n",
    "    def make_sound(self):\n",
    "        print(\"Making animal sounds!\")"
   ]
  },
  {
   "cell_type": "code",
   "execution_count": null,
   "metadata": {},
   "outputs": [],
   "source": [
    "class Dog(Animal):\n",
    "\n",
    "    def __init__(self, name, age) -> None:\n",
    "        self.name = name\n",
    "        self.age = age\n",
    "\n",
    "    def make_sound(self):\n",
    "        print(\"Woof!\")\n",
    "\n",
    "    def say_name(self):\n",
    "        print(f\"Hello I am {self.name} the dog!\")"
   ]
  },
  {
   "cell_type": "code",
   "execution_count": null,
   "metadata": {},
   "outputs": [],
   "source": [
    "max = Dog(name=\"max\", age=5)\n",
    "max.make_sound()\n",
    "max.say_name()"
   ]
  },
  {
   "cell_type": "code",
   "execution_count": null,
   "metadata": {},
   "outputs": [],
   "source": [
    "max.eat_food()\n",
    "max.drink_water()"
   ]
  },
  {
   "cell_type": "code",
   "execution_count": null,
   "metadata": {},
   "outputs": [],
   "source": [
    "max.say_age()"
   ]
  },
  {
   "cell_type": "code",
   "execution_count": null,
   "metadata": {},
   "outputs": [],
   "source": [
    "class Cat(Animal):\n",
    "    def __init__(self, name, age) -> None: \n",
    "        self.name = name\n",
    "        self.age = age\n",
    "\n",
    "    def make_sound(self) -> None:\n",
    "        print(\"Meow!\")\n",
    "    \n",
    "    def say_name(self) -> None:\n",
    "        print(f\"Hello I am {self.name} the cat!\")"
   ]
  },
  {
   "cell_type": "code",
   "execution_count": null,
   "metadata": {},
   "outputs": [],
   "source": [
    "luna = Cat(\"Luna\", 3)\n",
    "luna.make_sound()\n",
    "luna.say_name()"
   ]
  },
  {
   "cell_type": "code",
   "execution_count": null,
   "metadata": {},
   "outputs": [],
   "source": [
    "luna.eat_food()\n",
    "luna.drink_water()"
   ]
  },
  {
   "cell_type": "code",
   "execution_count": null,
   "metadata": {},
   "outputs": [],
   "source": [
    "luna.say_age()"
   ]
  },
  {
   "cell_type": "code",
   "execution_count": null,
   "metadata": {},
   "outputs": [],
   "source": [
    "class Animal:\n",
    "    def __init__(self, name, age) -> None:\n",
    "        self.name = name\n",
    "        self.age = age\n",
    "\n",
    "    def make_sound(self) -> None:\n",
    "        if isinstance(self, Dog):\n",
    "            print(\"Woof\")\n",
    "        if isinstance(self, Cat):\n",
    "            print(\"Meow!\")"
   ]
  },
  {
   "cell_type": "code",
   "execution_count": null,
   "metadata": {},
   "outputs": [],
   "source": [
    "class Dog(Animal):\n",
    "    \n",
    "    def __init__(self, name, age) -> None:\n",
    "        self.name = name\n",
    "        self.age = age\n",
    "\n",
    "    def say_name(self):\n",
    "        print(f\"Hello I am {self.name} the dog!\")"
   ]
  },
  {
   "cell_type": "code",
   "execution_count": null,
   "metadata": {},
   "outputs": [],
   "source": [
    "class Cat(Animal):\n",
    "    def __init__(self, name, age) -> None: \n",
    "        self.name = name\n",
    "        self.age = age\n",
    "    \n",
    "    def say_name(self) -> None:\n",
    "        print(f\"Hello I am {self.name} the cat!\")"
   ]
  },
  {
   "cell_type": "code",
   "execution_count": null,
   "metadata": {},
   "outputs": [],
   "source": [
    "rocky = Dog(\"rocky\", 4)\n",
    "oliver = Cat(\"oliver\", 7)\n",
    "\n",
    "rocky.make_sound()\n",
    "oliver.make_sound()"
   ]
  },
  {
   "attachments": {},
   "cell_type": "markdown",
   "metadata": {},
   "source": [
    "## Abstraction"
   ]
  },
  {
   "cell_type": "code",
   "execution_count": null,
   "metadata": {},
   "outputs": [],
   "source": [
    "from abc import ABC, abstractmethod\n",
    "\n",
    "class Shape(ABC):\n",
    "\n",
    "    def __init__(self) -> None:\n",
    "        pass\n",
    "\n",
    "    @abstractmethod\n",
    "    def perimeter(self):\n",
    "        \"\"\"Perimeter of the shape\"\"\"\n",
    "\n",
    "    @abstractmethod\n",
    "    def area(self):\n",
    "        ..."
   ]
  },
  {
   "cell_type": "code",
   "execution_count": null,
   "metadata": {},
   "outputs": [],
   "source": [
    "class Rectangle(Shape):\n",
    "\n",
    "    def __init__(self, length, breadth) -> None:\n",
    "        self.length = length\n",
    "        self.breadth = breadth\n",
    "\n",
    "    def area(self):\n",
    "        return self.length * self.breadth"
   ]
  },
  {
   "cell_type": "code",
   "execution_count": null,
   "metadata": {},
   "outputs": [],
   "source": [
    "rectangle = Rectangle(3, 4)\n",
    "rectangle.area()"
   ]
  },
  {
   "cell_type": "code",
   "execution_count": null,
   "metadata": {},
   "outputs": [],
   "source": [
    "class Rectangle(Shape):\n",
    "\n",
    "    def __init__(self, length, breadth) -> None:\n",
    "        self.length = length\n",
    "        self.breadth = breadth\n",
    "        self.side_count = 4\n",
    "\n",
    "    def area(self):\n",
    "        return self.length * self.breadth\n",
    "    \n",
    "    def perimeter(self):\n",
    "        return 2 * (self.length + self.breadth)\n",
    "    \n",
    "    def get_side_count(self):\n",
    "        return self.side_count"
   ]
  },
  {
   "cell_type": "code",
   "execution_count": null,
   "metadata": {},
   "outputs": [],
   "source": [
    "rectangle = Rectangle(3, 4)\n",
    "print(rectangle.area())\n",
    "print(f\"I have {rectangle.get_side_count()} sides!\")"
   ]
  },
  {
   "attachments": {},
   "cell_type": "markdown",
   "metadata": {},
   "source": [
    "## Encapsulation"
   ]
  },
  {
   "attachments": {},
   "cell_type": "markdown",
   "metadata": {},
   "source": [
    "### Access Specifiers"
   ]
  },
  {
   "cell_type": "code",
   "execution_count": null,
   "metadata": {},
   "outputs": [],
   "source": [
    "class Rectangle(Shape):\n",
    "\n",
    "    def __init__(self, length, breadth) -> None:\n",
    "        self.length = length\n",
    "        self.breadth = breadth\n",
    "        self.side_count = 4\n",
    "\n",
    "    def area(self):\n",
    "        return self.length * self.breadth\n",
    "    \n",
    "    def perimeter(self):\n",
    "        return 2 * (self.length + self.breadth)\n",
    "    \n",
    "    def get_side_count(self):\n",
    "        return self.side_count"
   ]
  },
  {
   "cell_type": "code",
   "execution_count": null,
   "metadata": {},
   "outputs": [],
   "source": [
    "rectangle = Rectangle(3, 4)\n",
    "print(rectangle.area())\n",
    "print(f\"I have {rectangle.get_side_count()} sides!\")"
   ]
  },
  {
   "cell_type": "code",
   "execution_count": null,
   "metadata": {},
   "outputs": [],
   "source": [
    "rectangle = Rectangle(3, 4)\n",
    "rectangle.length = 4\n",
    "rectangle.side_count = 10\n",
    "print(rectangle.area())\n",
    "print(f\"I have {rectangle.get_side_count()} sides!\")"
   ]
  },
  {
   "cell_type": "code",
   "execution_count": null,
   "metadata": {},
   "outputs": [],
   "source": [
    "class Rectangle(Shape):\n",
    "\n",
    "    def __init__(self, length, breadth) -> None:\n",
    "        self.length = length\n",
    "        self.breadth = breadth\n",
    "        self._shape_name = \"Rectangle\"\n",
    "        self.__side_count = 4\n",
    "\n",
    "    def area(self):\n",
    "        return self.length * self.breadth\n",
    "    \n",
    "    def perimeter(self):\n",
    "        return 2 * (self.length + self.breadth)\n",
    "    \n",
    "    def get_side_count(self):\n",
    "        return self.__side_count"
   ]
  },
  {
   "cell_type": "code",
   "execution_count": null,
   "metadata": {},
   "outputs": [],
   "source": [
    "rectangle = Rectangle(3, 4)\n",
    "rectangle.length = 4\n",
    "rectangle.__side_count = 10\n",
    "print(rectangle.area())\n",
    "print(f\"I have {rectangle.get_side_count()} sides!\")"
   ]
  },
  {
   "cell_type": "code",
   "execution_count": null,
   "metadata": {},
   "outputs": [],
   "source": [
    "rectangle.__side_count"
   ]
  },
  {
   "cell_type": "code",
   "execution_count": null,
   "metadata": {},
   "outputs": [],
   "source": [
    "dir(rectangle)"
   ]
  },
  {
   "cell_type": "code",
   "execution_count": null,
   "metadata": {},
   "outputs": [],
   "source": [
    "rectangle._Rectangle__side_count"
   ]
  },
  {
   "cell_type": "code",
   "execution_count": null,
   "metadata": {},
   "outputs": [],
   "source": [
    "rectangle._Rectangle__side_count = 12"
   ]
  },
  {
   "cell_type": "code",
   "execution_count": null,
   "metadata": {},
   "outputs": [],
   "source": [
    "rectangle.get_side_count()"
   ]
  },
  {
   "cell_type": "code",
   "execution_count": null,
   "metadata": {},
   "outputs": [],
   "source": [
    "rectangle._shape_name"
   ]
  },
  {
   "cell_type": "code",
   "execution_count": null,
   "metadata": {},
   "outputs": [],
   "source": [
    "class Square(Rectangle):\n",
    "    def __init__(self, length) -> None:\n",
    "        self.length = length\n",
    "        self.breadth = length"
   ]
  },
  {
   "cell_type": "code",
   "execution_count": null,
   "metadata": {},
   "outputs": [],
   "source": [
    "square = Square(4)\n",
    "print(square.area())"
   ]
  },
  {
   "cell_type": "code",
   "execution_count": null,
   "metadata": {},
   "outputs": [],
   "source": [
    "print(square._shape_name)"
   ]
  },
  {
   "cell_type": "code",
   "execution_count": null,
   "metadata": {},
   "outputs": [],
   "source": [
    "print(rectangle._shape_name)"
   ]
  },
  {
   "cell_type": "code",
   "execution_count": null,
   "metadata": {},
   "outputs": [],
   "source": [
    "dir(square)"
   ]
  },
  {
   "attachments": {},
   "cell_type": "markdown",
   "metadata": {},
   "source": [
    "### super()"
   ]
  },
  {
   "cell_type": "code",
   "execution_count": null,
   "metadata": {},
   "outputs": [],
   "source": [
    "class Parent:\n",
    "\n",
    "    def __init__(self, name, age, job=\"Teacher\") -> None:\n",
    "        self.name = name\n",
    "        self.age = age\n",
    "        self.job = job\n",
    "        self.eye_color = \"blue\"\n",
    "        \n",
    "    def get_eye_color(self):\n",
    "        return self.eye_color\n",
    "\n",
    "    def get_job(self):\n",
    "        return self.job"
   ]
  },
  {
   "cell_type": "code",
   "execution_count": null,
   "metadata": {},
   "outputs": [],
   "source": [
    "parent = Parent(\"Jack\", 40, \"Engineer\")\n",
    "print(parent.get_job())"
   ]
  },
  {
   "cell_type": "code",
   "execution_count": null,
   "metadata": {},
   "outputs": [],
   "source": [
    "class Child(Parent):\n",
    "\n",
    "    def  __init__(self, name, age) -> None:\n",
    "        super().__init__(name, age)\n",
    "\n",
    "    def get_eye_color(self):\n",
    "        return super().get_eye_color()"
   ]
  },
  {
   "cell_type": "code",
   "execution_count": null,
   "metadata": {},
   "outputs": [],
   "source": [
    "child = Child(\"John\", age=10)\n",
    "print(child.get_eye_color())"
   ]
  },
  {
   "attachments": {},
   "cell_type": "markdown",
   "metadata": {},
   "source": [
    "### Mulitple inheritance"
   ]
  },
  {
   "cell_type": "code",
   "execution_count": null,
   "metadata": {},
   "outputs": [],
   "source": [
    "class Father:\n",
    "\n",
    "    def __init__(self, name, age, job) -> None:\n",
    "        self.name = name\n",
    "        self.age = age\n",
    "        self.job = job\n",
    "        self.eye_color = \"blue\"\n",
    "        \n",
    "    def get_eye_color(self):\n",
    "        return self.eye_color\n",
    "\n",
    "    def get_job(self):\n",
    "        return self.job"
   ]
  },
  {
   "cell_type": "code",
   "execution_count": null,
   "metadata": {},
   "outputs": [],
   "source": [
    "class Mother:\n",
    "\n",
    "    def __init__(self, name, age, job) -> None:\n",
    "        self.name = name\n",
    "        self.age = age\n",
    "        self.job = job\n",
    "        self.eye_color = \"black\"\n",
    "        \n",
    "    def get_eye_color(self):\n",
    "        return self.eye_color\n",
    "\n",
    "    def get_job(self):\n",
    "        return self.job"
   ]
  },
  {
   "cell_type": "code",
   "execution_count": null,
   "metadata": {},
   "outputs": [],
   "source": [
    "class Child(Father, Mother):\n",
    "\n",
    "    def __init__(self, name, age) -> None:\n",
    "        super().__init__(name, age)\n",
    "\n",
    "    def get_eye_color(self):\n",
    "        return super().get_eye_color()\n",
    "    \n",
    "    def get_parents_job(self):\n",
    "        return super().get_job()"
   ]
  },
  {
   "cell_type": "code",
   "execution_count": null,
   "metadata": {},
   "outputs": [],
   "source": [
    "jack = Father(\"Jack\", 40, \"Engineer\")\n",
    "jill = Mother(\"Jill\", 39, \"Doctor\")\n",
    "john = Child(\"Jack\", 10)"
   ]
  },
  {
   "cell_type": "code",
   "execution_count": null,
   "metadata": {},
   "outputs": [],
   "source": [
    "class Child(Father, Mother):\n",
    "\n",
    "    def __init__(self, name, age) -> None:\n",
    "        super().__init__(name, age, None)\n",
    "\n",
    "    def get_eye_color(self):\n",
    "        return super().get_eye_color()\n",
    "    \n",
    "    def get_job(self):\n",
    "        return super().get_job()"
   ]
  },
  {
   "cell_type": "code",
   "execution_count": null,
   "metadata": {},
   "outputs": [],
   "source": [
    "jack = Father(\"Jack\", 40, \"Engineer\")\n",
    "jill = Mother(\"Jill\", 39, \"Doctor\")\n",
    "john = Child(\"Jack\", 10)"
   ]
  },
  {
   "cell_type": "code",
   "execution_count": null,
   "metadata": {},
   "outputs": [],
   "source": [
    "print(jack.get_eye_color())"
   ]
  },
  {
   "cell_type": "code",
   "execution_count": null,
   "metadata": {},
   "outputs": [],
   "source": [
    "print(jill.get_eye_color())"
   ]
  },
  {
   "cell_type": "code",
   "execution_count": null,
   "metadata": {},
   "outputs": [],
   "source": [
    "print(john.get_eye_color())"
   ]
  },
  {
   "cell_type": "code",
   "execution_count": null,
   "metadata": {},
   "outputs": [],
   "source": [
    "print(john.get_job())"
   ]
  },
  {
   "cell_type": "code",
   "execution_count": null,
   "metadata": {},
   "outputs": [],
   "source": [
    "Child.mro()"
   ]
  },
  {
   "cell_type": "code",
   "execution_count": null,
   "metadata": {},
   "outputs": [],
   "source": [
    "Child.__mro__"
   ]
  },
  {
   "attachments": {},
   "cell_type": "markdown",
   "metadata": {},
   "source": [
    "### dunder methods"
   ]
  },
  {
   "cell_type": "code",
   "execution_count": null,
   "metadata": {},
   "outputs": [],
   "source": [
    "dir(child)"
   ]
  },
  {
   "cell_type": "code",
   "execution_count": null,
   "metadata": {},
   "outputs": [],
   "source": [
    "print(child)"
   ]
  },
  {
   "cell_type": "code",
   "execution_count": null,
   "metadata": {},
   "outputs": [],
   "source": [
    "print(str(child))"
   ]
  },
  {
   "cell_type": "code",
   "execution_count": null,
   "metadata": {},
   "outputs": [],
   "source": [
    "print(repr(child))"
   ]
  },
  {
   "cell_type": "code",
   "execution_count": null,
   "metadata": {},
   "outputs": [],
   "source": [
    "class Child(Father, Mother):\n",
    "\n",
    "    def __init__(self, name, age) -> None:\n",
    "        super().__init__(name, age, None)\n",
    "\n",
    "    def get_eye_color(self):\n",
    "        return super().get_eye_color()\n",
    "    \n",
    "    def get_job(self):\n",
    "        return super().get_job()\n",
    "    \n",
    "    def __str__(self):\n",
    "        return f\"Hello I am {self.name}. I am {self.age} year old!\""
   ]
  },
  {
   "cell_type": "code",
   "execution_count": null,
   "metadata": {},
   "outputs": [],
   "source": [
    "john = Child(\"Jack\", 10)"
   ]
  },
  {
   "cell_type": "code",
   "execution_count": null,
   "metadata": {},
   "outputs": [],
   "source": [
    "print(john)"
   ]
  },
  {
   "cell_type": "code",
   "execution_count": null,
   "metadata": {},
   "outputs": [],
   "source": [
    "print(str(john))"
   ]
  },
  {
   "cell_type": "code",
   "execution_count": null,
   "metadata": {},
   "outputs": [],
   "source": [
    "print(repr(john))"
   ]
  },
  {
   "cell_type": "code",
   "execution_count": null,
   "metadata": {},
   "outputs": [],
   "source": [
    "john1 = Child(\"John\", 10)"
   ]
  },
  {
   "cell_type": "code",
   "execution_count": null,
   "metadata": {},
   "outputs": [],
   "source": [
    "john == john1"
   ]
  },
  {
   "attachments": {},
   "cell_type": "markdown",
   "metadata": {},
   "source": [
    "### Operator overloading"
   ]
  },
  {
   "cell_type": "code",
   "execution_count": null,
   "metadata": {},
   "outputs": [],
   "source": [
    "class Child(Father, Mother):\n",
    "\n",
    "    def __init__(self, name, age) -> None:\n",
    "        super().__init__(name, age, None)\n",
    "\n",
    "    def get_eye_color(self):\n",
    "        return super().get_eye_color()\n",
    "    \n",
    "    def get_job(self):\n",
    "        return super().get_job()\n",
    "    \n",
    "    def __str__(self):\n",
    "        return f\"Hello I am {self.name}. I am {self.age} year old!\"\n",
    "    \n",
    "    def __eq__(self, other: object) -> bool:\n",
    "        return (self.name == other.name) and (self.age == other.age)"
   ]
  },
  {
   "cell_type": "code",
   "execution_count": null,
   "metadata": {},
   "outputs": [],
   "source": [
    "john = Child(\"John\", 10)\n",
    "john1 = Child(\"John\", 10)"
   ]
  },
  {
   "cell_type": "code",
   "execution_count": null,
   "metadata": {},
   "outputs": [],
   "source": [
    "john == john1"
   ]
  },
  {
   "attachments": {},
   "cell_type": "markdown",
   "metadata": {},
   "source": [
    "## Try it yourself"
   ]
  },
  {
   "attachments": {},
   "cell_type": "markdown",
   "metadata": {},
   "source": [
    "- Create a `Container` class to store a list and a boolean. Implement the below functionality:\n",
    "  - eg 1: \n",
    "    ```python\n",
    "      obj1 = Container([0, 1, 2, 3, 4, 5])\n",
    "      obj2 = Container([10, 11, 12, 13, 14, 15])\n",
    "      print(obj1 + obj2) ==> [10, 12, 14, 16, 18, 20]\n",
    "    ```\n",
    "  - eg 2:\n",
    "    ```python\n",
    "      obj1 = Container([0, 1, 2, 3, 4, 5], add_only_odd_index=True)\n",
    "      obj2 = Container([10, 11, 12, 13, 14, 15], add_only_odd_index=True)\n",
    "      print(obj1 + obj2) ==> [12, 16, 20]\n",
    "    ```"
   ]
  },
  {
   "attachments": {},
   "cell_type": "markdown",
   "metadata": {},
   "source": [
    "[<< 9. Comprehensions in Python](09_comprehensions_in_python.ipynb) | [Index](00_index.ipynb) | [11. Exception Handling >>](11_exception_handling.ipynb)"
   ]
  },
  {
   "attachments": {},
   "cell_type": "markdown",
   "metadata": {},
   "source": []
  }
 ],
 "metadata": {
  "kernelspec": {
   "display_name": ".venv",
   "language": "python",
   "name": "python3"
  },
  "language_info": {
   "codemirror_mode": {
    "name": "ipython",
    "version": 3
   },
   "file_extension": ".py",
   "mimetype": "text/x-python",
   "name": "python",
   "nbconvert_exporter": "python",
   "pygments_lexer": "ipython3",
   "version": "3.10.8"
  },
  "orig_nbformat": 4
 },
 "nbformat": 4,
 "nbformat_minor": 2
}
