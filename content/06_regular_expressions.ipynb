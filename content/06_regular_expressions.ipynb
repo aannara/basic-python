{
 "cells": [
  {
   "attachments": {},
   "cell_type": "markdown",
   "metadata": {},
   "source": [
    "[<< 5. String Manipulation](05_string_manipulation.ipynb) | [Index](00_index.ipynb) | [7. Creating your own functions >>](07_creating_your_own_functions.ipynb)"
   ]
  },
  {
   "attachments": {},
   "cell_type": "markdown",
   "metadata": {},
   "source": [
    "# Regular expression"
   ]
  },
  {
   "attachments": {},
   "cell_type": "markdown",
   "metadata": {},
   "source": [
    "## Regex explanation"
   ]
  },
  {
   "attachments": {},
   "cell_type": "markdown",
   "metadata": {},
   "source": [
    "### Special Characters:\n",
    "```python\n",
    ".   - (Dot) Matches any character\n",
    "*   - Matches 0 or more characters\n",
    "+   - Matches 1 or more characters\n",
    "?   - Matches 0 or 1 repetitions\n",
    "^   - Matches start of the string\n",
    "$   - Matches the end of the string\n",
    "[]  - To define a set of characters\n",
    "|   - Pattern A or Pattern B\n",
    "()  - Grouping of patterns\n",
    "\\   - Escape character\n",
    "```"
   ]
  },
  {
   "cell_type": "code",
   "execution_count": null,
   "metadata": {},
   "outputs": [],
   "source": [
    "import re"
   ]
  },
  {
   "cell_type": "code",
   "execution_count": null,
   "metadata": {},
   "outputs": [],
   "source": [
    "input_string = \"Regular Expression\"\n",
    "pattern = \"^R.*x$\"\n",
    "\n",
    "result = re.match(pattern, input_string)\n",
    "\n",
    "if result:\n",
    "    print(\"Pattern matched\")\n",
    "else:\n",
    "    print(\"Pattern not matching\")"
   ]
  },
  {
   "cell_type": "code",
   "execution_count": null,
   "metadata": {},
   "outputs": [],
   "source": [
    "input_string = \"Regex\"\n",
    "pattern = \"^R.*x$\"\n",
    "\n",
    "result = re.match(pattern, input_string)\n",
    "\n",
    "if result:\n",
    "    print(\"Pattern matched\")\n",
    "else:\n",
    "    print(\"Pattern not matching\")"
   ]
  },
  {
   "cell_type": "code",
   "execution_count": null,
   "metadata": {},
   "outputs": [],
   "source": [
    "pattern = \"l.*e\"\n",
    "input_string = \"I love Python!\"\n",
    "result = re.search(pattern, input_string)\n",
    "print(result.group())"
   ]
  },
  {
   "attachments": {},
   "cell_type": "markdown",
   "metadata": {},
   "source": [
    "### More special characters:\n",
    "\n",
    "```python\n",
    "\\d - Matches any decimal digit\n",
    "\\D - Matches any non-digit character\n",
    "\\s - Matches any whitespace character\n",
    "\\S - Matches any non-whitespace character\n",
    "\\w - Matches any alphanumeric character\n",
    "\\W - Matches any non-alphanumeric character\n",
    "```"
   ]
  },
  {
   "cell_type": "code",
   "execution_count": null,
   "metadata": {},
   "outputs": [],
   "source": [
    "input_string = \"Here's my phone number: 12345-34355. Did you write it down?\"\n",
    "pattern = \"\\d+-\\d+\"\n",
    "\n",
    "result = re.search(pattern, input_string)\n",
    "print(result.group())"
   ]
  },
  {
   "cell_type": "code",
   "execution_count": null,
   "metadata": {},
   "outputs": [],
   "source": [
    "input_string = \"\"\"Here's my phone number: 12345-34355. Did you write it down?.\n",
    "                I can give you my second number also: 22333-66645.\"\"\"\n",
    "pattern = \"\\d+-\\d+\"\n",
    "\n",
    "result = re.search(pattern, input_string)\n",
    "print(result)\n",
    "print(result.group())"
   ]
  },
  {
   "cell_type": "code",
   "execution_count": null,
   "metadata": {},
   "outputs": [],
   "source": [
    "input_string = \"\"\"Here's my phone number: 12345-34355. Did you write it down?.\n",
    "                I can give you my second number also: 22333-66645.\"\"\"\n",
    "pattern = \"\\d+-\\d+\"\n",
    "\n",
    "result = re.findall(pattern, input_string)\n",
    "print(result)"
   ]
  },
  {
   "attachments": {},
   "cell_type": "markdown",
   "metadata": {},
   "source": [
    "## [Pythex](https://pythex.org/)"
   ]
  },
  {
   "attachments": {},
   "cell_type": "markdown",
   "metadata": {},
   "source": [
    "## URL: https://pythex.org"
   ]
  },
  {
   "attachments": {},
   "cell_type": "markdown",
   "metadata": {},
   "source": [
    "<img src=\"./static/pythex-screenshot.png\" width=\"700\">"
   ]
  },
  {
   "attachments": {},
   "cell_type": "markdown",
   "metadata": {},
   "source": [
    "Python regex documentation: https://docs.python.org/3/library/re.html\n",
    "\n",
    "Python regex howto guide: https://docs.python.org/3/howto/regex.html"
   ]
  },
  {
   "attachments": {},
   "cell_type": "markdown",
   "metadata": {},
   "source": [
    "## Try it yourself"
   ]
  },
  {
   "attachments": {},
   "cell_type": "markdown",
   "metadata": {},
   "source": [
    "1. Check that a string contains only alphabets and numerals\n",
    "2. Program that matches a string that has an 'a' followed by one or more b's\n",
    "3. Program that checks if the word 'sad' is not in a string\n",
    "4. Program to search the numbers of length between 1 to 3 in a string\n",
    "5. Program to search and print index of 'fox' in \"The quick brown fox jumped over the lazy dog\""
   ]
  },
  {
   "attachments": {},
   "cell_type": "markdown",
   "metadata": {},
   "source": [
    "[<< 5. String Manipulation](05_string_manipulation.ipynb) | [Index](00_index.ipynb) | [7. Creating your own functions >>](07_creating_your_own_functions.ipynb)"
   ]
  },
  {
   "attachments": {},
   "cell_type": "markdown",
   "metadata": {},
   "source": []
  }
 ],
 "metadata": {
  "kernelspec": {
   "display_name": ".venv",
   "language": "python",
   "name": "python3"
  },
  "language_info": {
   "codemirror_mode": {
    "name": "ipython",
    "version": 3
   },
   "file_extension": ".py",
   "mimetype": "text/x-python",
   "name": "python",
   "nbconvert_exporter": "python",
   "pygments_lexer": "ipython3",
   "version": "3.10.8"
  },
  "orig_nbformat": 4
 },
 "nbformat": 4,
 "nbformat_minor": 2
}
