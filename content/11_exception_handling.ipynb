{
 "cells": [
  {
   "attachments": {},
   "cell_type": "markdown",
   "metadata": {},
   "source": [
    "[<< 10. Object Oriented Programming](10_object_oriented_programming.ipynb) | [Index](00_index.ipynb) | [12. File Handling >>](12_file_handling.ipynb)"
   ]
  },
  {
   "attachments": {},
   "cell_type": "markdown",
   "metadata": {},
   "source": [
    "# Exception Handling"
   ]
  },
  {
   "attachments": {},
   "cell_type": "markdown",
   "metadata": {},
   "source": [
    "## Errors"
   ]
  },
  {
   "cell_type": "code",
   "execution_count": null,
   "metadata": {},
   "outputs": [],
   "source": [
    "print(\"hello\""
   ]
  },
  {
   "cell_type": "code",
   "execution_count": null,
   "metadata": {},
   "outputs": [],
   "source": [
    "num = 23\n",
    "if num % 2 = 0:\n",
    "    print(\"Hello\")"
   ]
  },
  {
   "cell_type": "code",
   "execution_count": null,
   "metadata": {},
   "outputs": [],
   "source": [
    "num = 23\n",
    "if num % 2 == 0\n",
    "    print(\"Hello\")"
   ]
  },
  {
   "attachments": {},
   "cell_type": "markdown",
   "metadata": {},
   "source": [
    "## Exceptions"
   ]
  },
  {
   "cell_type": "code",
   "execution_count": null,
   "metadata": {},
   "outputs": [],
   "source": [
    "print(hello)"
   ]
  },
  {
   "cell_type": "code",
   "execution_count": null,
   "metadata": {},
   "outputs": [],
   "source": [
    "print(1/0)"
   ]
  },
  {
   "cell_type": "code",
   "execution_count": null,
   "metadata": {},
   "outputs": [],
   "source": [
    "print(\"2\" + 2)"
   ]
  },
  {
   "cell_type": "code",
   "execution_count": null,
   "metadata": {},
   "outputs": [],
   "source": [
    "print(int(\"2\"))"
   ]
  },
  {
   "cell_type": "code",
   "execution_count": null,
   "metadata": {},
   "outputs": [],
   "source": [
    "print(int(\"abc\"))"
   ]
  },
  {
   "attachments": {},
   "cell_type": "markdown",
   "metadata": {},
   "source": [
    "## Dealing with exceptions"
   ]
  },
  {
   "cell_type": "code",
   "execution_count": null,
   "metadata": {},
   "outputs": [],
   "source": [
    "print(\"Before the crash...\")\n",
    "\n",
    "num = int(input(\"Enter a number: \"))\n",
    "if num%2 == 0:\n",
    "    print(\"The number is even\")\n",
    "else:\n",
    "    print(\"The number is odd\")\n",
    "\n",
    "print(\"Code did not crash!!!\")"
   ]
  },
  {
   "cell_type": "code",
   "execution_count": null,
   "metadata": {},
   "outputs": [],
   "source": [
    "print(\"Before the crash...\")\n",
    "\n",
    "try:\n",
    "    num = int(input(\"Enter a number: \"))\n",
    "    if num%2 == 0:\n",
    "        print(\"The number is even\")\n",
    "    else:\n",
    "        print(\"The number is odd\")\n",
    "except ValueError as exception:\n",
    "    print(\"[ERROR]: The entered value is not a number!!!\")\n",
    "    print(exception)\n",
    "    \n",
    "print(\"Code did not crash!!!\")"
   ]
  },
  {
   "attachments": {},
   "cell_type": "markdown",
   "metadata": {},
   "source": [
    "## Handling multiple exceptions"
   ]
  },
  {
   "cell_type": "code",
   "execution_count": null,
   "metadata": {},
   "outputs": [],
   "source": [
    "try:\n",
    "    even_numbers = [0, 2, 4, 6, 8]\n",
    "    print(even_numbers[5])\n",
    "\n",
    "    print(10/even_numbers[0])\n",
    "\n",
    "except ZeroDivisionError:\n",
    "    print(\"[ERROR]: Denominator cannot be 0\")\n",
    "    \n",
    "except IndexError:\n",
    "    print(\"[ERROR]: Index Out of Bound\")"
   ]
  },
  {
   "cell_type": "code",
   "execution_count": null,
   "metadata": {},
   "outputs": [],
   "source": [
    "num_list = []\n",
    "\n",
    "try:\n",
    "    num_list = [0, 1, 2, 3, 4, 5]\n",
    "    \n",
    "    print(10/num_list[0])\n",
    "\n",
    "    value = \"2\"\n",
    "    print(value + num_list[0])\n",
    "\n",
    "except (ZeroDivisionError, TypeError):\n",
    "    print(\"[ERROR]: Values in num_list does not meet the requirements\")"
   ]
  },
  {
   "attachments": {},
   "cell_type": "markdown",
   "metadata": {},
   "source": [
    "## try...except...else...finally"
   ]
  },
  {
   "cell_type": "code",
   "execution_count": null,
   "metadata": {},
   "outputs": [],
   "source": [
    "num_list = []\n",
    "\n",
    "try:\n",
    "    num_list = [0, 1, 2, 3, 4, 5]\n",
    "    \n",
    "    print(10/num_list[0])\n",
    "\n",
    "    value = \"2\"\n",
    "    print(value + num_list[0])\n",
    "\n",
    "except (ZeroDivisionError, TypeError):\n",
    "    print(\"[ERROR]: Values in num_list does not meet the requirements\")\n",
    "\n",
    "else:\n",
    "    print(\"Successfully processed num_list\")\n",
    "\n",
    "finally:\n",
    "    print(\"Resetting num_list back to empty\")\n",
    "    num_list = []"
   ]
  },
  {
   "attachments": {},
   "cell_type": "markdown",
   "metadata": {},
   "source": [
    "## Raising your own exceptions"
   ]
  },
  {
   "cell_type": "code",
   "execution_count": null,
   "metadata": {},
   "outputs": [],
   "source": [
    "num_list = []\n",
    "\n",
    "try:\n",
    "    num_list = [0, 1, 2, 3, 4, 5]\n",
    "    \n",
    "    if num_list[0] == 0:\n",
    "        raise ZeroDivisionError(\"The number is zero\")\n",
    "    else:\n",
    "        print(10/num_list[0])\n",
    "\n",
    "    value = \"2\"\n",
    "    if isinstance(value, str):\n",
    "        raise TypeError(\"Value is a string!!!\")\n",
    "    else:\n",
    "        print(value + num_list[0])\n",
    "\n",
    "except (ZeroDivisionError, TypeError) as ex:\n",
    "    print(\"[ERROR]: Values in num_list does not meet the requirements\")\n",
    "    print(ex)\n",
    "\n",
    "else:\n",
    "    print(\"Successfully processed num_list\")\n",
    "\n",
    "finally:\n",
    "    print(\"Resetting num_list back to empty\")\n",
    "    num_list = []"
   ]
  },
  {
   "cell_type": "code",
   "execution_count": null,
   "metadata": {},
   "outputs": [],
   "source": [
    "num_list = []\n",
    "\n",
    "try:\n",
    "    num_list = [0, 1, 2, 3, 4, 5]\n",
    "    \n",
    "    if num_list[0] == 0:\n",
    "        raise ZeroDivisionError(\"The number is zero\")\n",
    "    else:\n",
    "        print(10/num_list[0])\n",
    "\n",
    "    value = \"2\"\n",
    "    if isinstance(value, str):\n",
    "        raise TypeError(\"Value is a string!!!\")\n",
    "    else:\n",
    "        print(value + num_list[0])\n",
    "\n",
    "except (ZeroDivisionError, TypeError) as ex:\n",
    "    print(\"[ERROR]: Values in num_list does not meet the requirements\")\n",
    "    print(ex)\n",
    "    raise\n",
    "\n",
    "else:\n",
    "    print(\"Successfully processed num_list\")\n",
    "\n",
    "finally:\n",
    "    print(\"Resetting num_list back to empty\")\n",
    "    num_list = []"
   ]
  },
  {
   "attachments": {},
   "cell_type": "markdown",
   "metadata": {},
   "source": [
    "## User defined exceptions"
   ]
  },
  {
   "cell_type": "code",
   "execution_count": null,
   "metadata": {},
   "outputs": [],
   "source": [
    "class EmptyValueError(Exception):\n",
    "    pass\n",
    "\n",
    "try:\n",
    "    value = \" \"\n",
    "    if not value.strip():\n",
    "        raise EmptyValueError(\"The value is empty\")\n",
    "except EmptyValueError as ex:\n",
    "    print(ex)\n",
    "    raise"
   ]
  },
  {
   "attachments": {},
   "cell_type": "markdown",
   "metadata": {},
   "source": [
    "## Exception Chaining"
   ]
  },
  {
   "cell_type": "code",
   "execution_count": null,
   "metadata": {},
   "outputs": [],
   "source": [
    "try:\n",
    "    open(\"database.sqlite\")\n",
    "except OSError:\n",
    "    raise RuntimeError(\"Unable to handle the error!!!\")"
   ]
  },
  {
   "attachments": {},
   "cell_type": "markdown",
   "metadata": {},
   "source": [
    "Python Documentation: https://docs.python.org/3/tutorial/errors.html"
   ]
  },
  {
   "attachments": {},
   "cell_type": "markdown",
   "metadata": {},
   "source": [
    "## Try it yourself"
   ]
  },
  {
   "attachments": {},
   "cell_type": "markdown",
   "metadata": {},
   "source": [
    "1. Write a function to input two values from user. Raise `ZeroDivisionError` if denominator is 0, raise `ValueError` if the division leaves a reminder. Add a cleanup function to remind user of the correct inputs.\n",
    "2. Write a function to check if the input number is a prime, if yes raise a custom `PrimeNumberError`."
   ]
  },
  {
   "attachments": {},
   "cell_type": "markdown",
   "metadata": {},
   "source": [
    "[<< 10. Object Oriented Programming](10_object_oriented_programming.ipynb) | [Index](00_index.ipynb) | [12. File Handling >>](12_file_handling.ipynb)"
   ]
  }
 ],
 "metadata": {
  "kernelspec": {
   "display_name": ".venv",
   "language": "python",
   "name": "python3"
  },
  "language_info": {
   "codemirror_mode": {
    "name": "ipython",
    "version": 3
   },
   "file_extension": ".py",
   "mimetype": "text/x-python",
   "name": "python",
   "nbconvert_exporter": "python",
   "pygments_lexer": "ipython3",
   "version": "3.10.8"
  },
  "orig_nbformat": 4
 },
 "nbformat": 4,
 "nbformat_minor": 2
}
