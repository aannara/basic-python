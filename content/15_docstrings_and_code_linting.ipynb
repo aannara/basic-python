{
 "cells": [
  {
   "attachments": {},
   "cell_type": "markdown",
   "metadata": {},
   "source": [
    "[<< 14. Modules in Python](14_modules_in_python.ipynb) | [Index](00_index.ipynb) | [16. Unit Testing >>](16_unit_testing.ipynb)"
   ]
  },
  {
   "attachments": {},
   "cell_type": "markdown",
   "metadata": {},
   "source": [
    "# Docstrings and code linting"
   ]
  },
  {
   "attachments": {},
   "cell_type": "markdown",
   "metadata": {},
   "source": [
    "Why documentation is important?"
   ]
  },
  {
   "attachments": {},
   "cell_type": "markdown",
   "metadata": {},
   "source": [
    "How to see the documentation"
   ]
  },
  {
   "cell_type": "code",
   "execution_count": null,
   "metadata": {},
   "outputs": [],
   "source": [
    "help(list)"
   ]
  },
  {
   "cell_type": "code",
   "execution_count": null,
   "metadata": {},
   "outputs": [],
   "source": [
    "from subprocess import run\n",
    "\n",
    "help(run)"
   ]
  },
  {
   "attachments": {},
   "cell_type": "markdown",
   "metadata": {},
   "source": [
    "Documenting your code"
   ]
  },
  {
   "cell_type": "code",
   "execution_count": null,
   "metadata": {},
   "outputs": [],
   "source": [
    "class DocumentClass:\n",
    "    \"\"\"Documentation for DocumentClass\"\"\"\n",
    "\n",
    "    def __init__(self, name, size) -> None:\n",
    "        self.doc_name = name\n",
    "        self.doc_size = size\n",
    "\n",
    "    def get_doc_name(self) -> str:\n",
    "        \"\"\"Return the document name.\n",
    "        Args: None\n",
    "        Returns: Document Name\"\"\"\n",
    "        return self.doc_name"
   ]
  },
  {
   "cell_type": "code",
   "execution_count": null,
   "metadata": {},
   "outputs": [],
   "source": [
    "doc = DocumentClass(\"Python Introduction\", 234)\n",
    "print(help(doc))"
   ]
  },
  {
   "attachments": {},
   "cell_type": "markdown",
   "metadata": {},
   "source": [
    "### Google Python Style Guide: https://google.github.io/styleguide/pyguide.html"
   ]
  },
  {
   "attachments": {},
   "cell_type": "markdown",
   "metadata": {},
   "source": [
    "## Creating an online documentation for your project"
   ]
  },
  {
   "attachments": {},
   "cell_type": "markdown",
   "metadata": {},
   "source": [
    "Sample: https://requests.readthedocs.io/en/latest/\n",
    "\n",
    "Documentation created used [Sphinx](https://www.sphinx-doc.org/en/master/usage/quickstart.html)"
   ]
  },
  {
   "attachments": {},
   "cell_type": "markdown",
   "metadata": {},
   "source": [
    "## Linting your code"
   ]
  },
  {
   "attachments": {},
   "cell_type": "markdown",
   "metadata": {},
   "source": [
    "- Format your code using [Black](https://black.readthedocs.io/en/stable/the_black_code_style/current_style.html)\n",
    "- Check your code for linting errors using [Pylint](https://pylint.pycqa.org/en/latest/tutorial.html)"
   ]
  },
  {
   "attachments": {},
   "cell_type": "markdown",
   "metadata": {},
   "source": [
    "[<< 14. Modules in Python](14_modules_in_python.ipynb) | [Index](00_index.ipynb) | [16. Unit Testing >>](16_unit_testing.ipynb)"
   ]
  }
 ],
 "metadata": {
  "kernelspec": {
   "display_name": ".venv",
   "language": "python",
   "name": "python3"
  },
  "language_info": {
   "codemirror_mode": {
    "name": "ipython",
    "version": 3
   },
   "file_extension": ".py",
   "mimetype": "text/x-python",
   "name": "python",
   "nbconvert_exporter": "python",
   "pygments_lexer": "ipython3",
   "version": "3.10.8"
  },
  "orig_nbformat": 4
 },
 "nbformat": 4,
 "nbformat_minor": 2
}
